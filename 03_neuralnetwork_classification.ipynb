{
  "nbformat": 4,
  "nbformat_minor": 0,
  "metadata": {
    "colab": {
      "name": "03_neuralnetwork_classification.ipynb",
      "provenance": [],
      "collapsed_sections": [],
      "authorship_tag": "ABX9TyMzSRH4mHNnXrH5so/NZ1sR",
      "include_colab_link": true
    },
    "kernelspec": {
      "name": "python3",
      "display_name": "Python 3"
    },
    "language_info": {
      "name": "python"
    }
  },
  "cells": [
    {
      "cell_type": "markdown",
      "metadata": {
        "id": "view-in-github",
        "colab_type": "text"
      },
      "source": [
        "<a href=\"https://colab.research.google.com/github/Mhtag/tensorflow/blob/main/03_neuralnetwork_classification.ipynb\" target=\"_parent\"><img src=\"https://colab.research.google.com/assets/colab-badge.svg\" alt=\"Open In Colab\"/></a>"
      ]
    },
    {
      "cell_type": "code",
      "metadata": {
        "id": "o9JM0dS6R40v"
      },
      "source": [
        "import tensorflow as tf\n",
        "import matplotlib.pyplot as plt\n",
        "\n"
      ],
      "execution_count": null,
      "outputs": []
    },
    {
      "cell_type": "markdown",
      "metadata": {
        "id": "GCP4STNcFXpe"
      },
      "source": [
        "## Creating the data to view and fit"
      ]
    },
    {
      "cell_type": "code",
      "metadata": {
        "id": "Sgj4V5Gk189p"
      },
      "source": [
        "from sklearn.datasets import make_circles\n",
        "\n",
        "# make 1000 samples\n",
        "n_samples = 1000\n",
        "\n",
        "# Create Circles\n",
        "X, y = make_circles(n_samples,\n",
        "                   noise=0.03,\n",
        "                   random_state=42)"
      ],
      "execution_count": null,
      "outputs": []
    },
    {
      "cell_type": "code",
      "metadata": {
        "colab": {
          "base_uri": "https://localhost:8080/"
        },
        "id": "IhN1nyRBGFib",
        "outputId": "4165b9f3-b462-4b5f-d780-8a094d5a64fd"
      },
      "source": [
        "# check the features\n",
        "X[:10]"
      ],
      "execution_count": null,
      "outputs": [
        {
          "output_type": "execute_result",
          "data": {
            "text/plain": [
              "array([[ 0.75424625,  0.23148074],\n",
              "       [-0.75615888,  0.15325888],\n",
              "       [-0.81539193,  0.17328203],\n",
              "       [-0.39373073,  0.69288277],\n",
              "       [ 0.44220765, -0.89672343],\n",
              "       [-0.47964637,  0.67643477],\n",
              "       [-0.01364836,  0.80334872],\n",
              "       [ 0.77151327,  0.14775959],\n",
              "       [-0.16932234, -0.79345575],\n",
              "       [-0.1214858 ,  1.02150905]])"
            ]
          },
          "metadata": {},
          "execution_count": 3
        }
      ]
    },
    {
      "cell_type": "code",
      "metadata": {
        "colab": {
          "base_uri": "https://localhost:8080/"
        },
        "id": "12_-ojEBGV86",
        "outputId": "987c49d1-0b98-432f-f3cc-f4e9b12af003"
      },
      "source": [
        "# check the labels\n",
        "y[:10]"
      ],
      "execution_count": null,
      "outputs": [
        {
          "output_type": "execute_result",
          "data": {
            "text/plain": [
              "array([1, 1, 1, 1, 0, 1, 1, 1, 1, 0])"
            ]
          },
          "metadata": {},
          "execution_count": 4
        }
      ]
    },
    {
      "cell_type": "code",
      "metadata": {
        "colab": {
          "base_uri": "https://localhost:8080/",
          "height": 205
        },
        "id": "XYI10lsiGc3B",
        "outputId": "89d0de62-786b-4c1b-8632-80fc8356ba44"
      },
      "source": [
        "import pandas as pd\n",
        "\n",
        "circles = pd.DataFrame({'X0':X[:,0],'X1':X[:,1],'label':y})\n",
        "circles.head()"
      ],
      "execution_count": null,
      "outputs": [
        {
          "output_type": "execute_result",
          "data": {
            "text/html": [
              "<div>\n",
              "<style scoped>\n",
              "    .dataframe tbody tr th:only-of-type {\n",
              "        vertical-align: middle;\n",
              "    }\n",
              "\n",
              "    .dataframe tbody tr th {\n",
              "        vertical-align: top;\n",
              "    }\n",
              "\n",
              "    .dataframe thead th {\n",
              "        text-align: right;\n",
              "    }\n",
              "</style>\n",
              "<table border=\"1\" class=\"dataframe\">\n",
              "  <thead>\n",
              "    <tr style=\"text-align: right;\">\n",
              "      <th></th>\n",
              "      <th>X0</th>\n",
              "      <th>X1</th>\n",
              "      <th>label</th>\n",
              "    </tr>\n",
              "  </thead>\n",
              "  <tbody>\n",
              "    <tr>\n",
              "      <th>0</th>\n",
              "      <td>0.754246</td>\n",
              "      <td>0.231481</td>\n",
              "      <td>1</td>\n",
              "    </tr>\n",
              "    <tr>\n",
              "      <th>1</th>\n",
              "      <td>-0.756159</td>\n",
              "      <td>0.153259</td>\n",
              "      <td>1</td>\n",
              "    </tr>\n",
              "    <tr>\n",
              "      <th>2</th>\n",
              "      <td>-0.815392</td>\n",
              "      <td>0.173282</td>\n",
              "      <td>1</td>\n",
              "    </tr>\n",
              "    <tr>\n",
              "      <th>3</th>\n",
              "      <td>-0.393731</td>\n",
              "      <td>0.692883</td>\n",
              "      <td>1</td>\n",
              "    </tr>\n",
              "    <tr>\n",
              "      <th>4</th>\n",
              "      <td>0.442208</td>\n",
              "      <td>-0.896723</td>\n",
              "      <td>0</td>\n",
              "    </tr>\n",
              "  </tbody>\n",
              "</table>\n",
              "</div>"
            ],
            "text/plain": [
              "         X0        X1  label\n",
              "0  0.754246  0.231481      1\n",
              "1 -0.756159  0.153259      1\n",
              "2 -0.815392  0.173282      1\n",
              "3 -0.393731  0.692883      1\n",
              "4  0.442208 -0.896723      0"
            ]
          },
          "metadata": {},
          "execution_count": 5
        }
      ]
    },
    {
      "cell_type": "markdown",
      "metadata": {
        "id": "4Prhx5avJlOi"
      },
      "source": [
        "### Vizualize the dataset"
      ]
    },
    {
      "cell_type": "code",
      "metadata": {
        "colab": {
          "base_uri": "https://localhost:8080/",
          "height": 283
        },
        "id": "vHIUaFTzHFHF",
        "outputId": "c31d2359-5eb9-4864-e1e1-dd01f7561d4a"
      },
      "source": [
        "# visualize witha plot\n",
        "import matplotlib.pyplot as plt\n",
        "plt.scatter(X[:,0],X[:,1], c=y, cmap=plt.cm.RdYlBu)"
      ],
      "execution_count": null,
      "outputs": [
        {
          "output_type": "execute_result",
          "data": {
            "text/plain": [
              "<matplotlib.collections.PathCollection at 0x7fe824a9fb10>"
            ]
          },
          "metadata": {},
          "execution_count": 6
        },
        {
          "output_type": "display_data",
          "data": {
            "image/png": "[encoded data removed]",
            "text/plain": [
              "<Figure size 432x288 with 1 Axes>"
            ]
          },
          "metadata": {
            "needs_background": "light"
          }
        }
      ]
    },
    {
      "cell_type": "markdown",
      "metadata": {
        "id": "098_06pNJfUK"
      },
      "source": [
        "### Input Shapes and output shapes"
      ]
    },
    {
      "cell_type": "code",
      "metadata": {
        "id": "_vJkR7GLHoly",
        "colab": {
          "base_uri": "https://localhost:8080/"
        },
        "outputId": "2863df7b-0db6-4be7-92fb-e7020d6b3e4e"
      },
      "source": [
        "X.shape, y.shape"
      ],
      "execution_count": null,
      "outputs": [
        {
          "output_type": "execute_result",
          "data": {
            "text/plain": [
              "((1000, 2), (1000,))"
            ]
          },
          "metadata": {},
          "execution_count": 7
        }
      ]
    },
    {
      "cell_type": "markdown",
      "metadata": {
        "id": "OHfvhaCBRr3I"
      },
      "source": [
        "## Model"
      ]
    },
    {
      "cell_type": "code",
      "metadata": {
        "id": "sLiPoyS0Jut6",
        "colab": {
          "base_uri": "https://localhost:8080/"
        },
        "outputId": "8d197f53-fc55-4a0f-dd29-9d596e23fc20"
      },
      "source": [
        "tf.random.set_seed(42)\n",
        "\n",
        "model1 = tf.keras.Sequential([\n",
        "                             tf.keras.layers.Dense(1)\n",
        "])\n",
        "\n",
        "model1.compile(loss=tf.keras.losses.BinaryCrossentropy(),\n",
        "              optimizer=tf.keras.optimizers.SGD(),\n",
        "              metrics=['accuracy'])\n",
        "\n",
        "model1.fit(X, y, epochs=200)"
      ],
      "execution_count": null,
      "outputs": [
        {
          "output_type": "stream",
          "name": "stdout",
          "text": [
            "Epoch 1/200\n",
            "32/32 [==============================] - 1s 1ms/step - loss: 2.8544 - accuracy: 0.4600\n",
            "Epoch 2/200\n",
            "32/32 [==============================] - 0s 1ms/step - loss: 0.7131 - accuracy: 0.5430\n",
            "Epoch 3/200\n",
            "32/32 [==============================] - 0s 1ms/step - loss: 0.6973 - accuracy: 0.5090\n",
            "Epoch 4/200\n",
            "32/32 [==============================] - 0s 1ms/step - loss: 0.6950 - accuracy: 0.5010\n",
            "Epoch 5/200\n",
            "32/32 [==============================] - 0s 1ms/step - loss: 0.6942 - accuracy: 0.4830\n",
            "Epoch 6/200\n",
            "32/32 [==============================] - 0s 1ms/step - loss: 0.6938 - accuracy: 0.4990\n",
            "Epoch 7/200\n",
            "32/32 [==============================] - 0s 1ms/step - loss: 0.6943 - accuracy: 0.4880\n",
            "Epoch 8/200\n",
            "32/32 [==============================] - 0s 1ms/step - loss: 0.6941 - accuracy: 0.4950\n",
            "Epoch 9/200\n",
            "32/32 [==============================] - 0s 1ms/step - loss: 0.6940 - accuracy: 0.4840\n",
            "Epoch 10/200\n",
            "32/32 [==============================] - 0s 1ms/step - loss: 0.6938 - accuracy: 0.4820\n",
            "Epoch 11/200\n",
            "32/32 [==============================] - 0s 1ms/step - loss: 0.6944 - accuracy: 0.4640\n",
            "Epoch 12/200\n",
            "32/32 [==============================] - 0s 1ms/step - loss: 0.6945 - accuracy: 0.4800\n",
            "Epoch 13/200\n",
            "32/32 [==============================] - 0s 1ms/step - loss: 0.6943 - accuracy: 0.4830\n",
            "Epoch 14/200\n",
            "32/32 [==============================] - 0s 1ms/step - loss: 0.6944 - accuracy: 0.5030\n",
            "Epoch 15/200\n",
            "32/32 [==============================] - 0s 1ms/step - loss: 0.6941 - accuracy: 0.4510\n",
            "Epoch 16/200\n",
            "32/32 [==============================] - 0s 1ms/step - loss: 0.6944 - accuracy: 0.4880\n",
            "Epoch 17/200\n",
            "32/32 [==============================] - 0s 1ms/step - loss: 0.6941 - accuracy: 0.4910\n",
            "Epoch 18/200\n",
            "32/32 [==============================] - 0s 1ms/step - loss: 0.6940 - accuracy: 0.4760\n",
            "Epoch 19/200\n",
            "32/32 [==============================] - 0s 1ms/step - loss: 0.6941 - accuracy: 0.4820\n",
            "Epoch 20/200\n",
            "32/32 [==============================] - 0s 1ms/step - loss: 0.6941 - accuracy: 0.4560\n",
            "Epoch 21/200\n",
            "32/32 [==============================] - 0s 1ms/step - loss: 0.6939 - accuracy: 0.4900\n",
            "Epoch 22/200\n",
            "32/32 [==============================] - 0s 1ms/step - loss: 0.6942 - accuracy: 0.4690\n",
            "Epoch 23/200\n",
            "32/32 [==============================] - 0s 1ms/step - loss: 0.6940 - accuracy: 0.4840\n",
            "Epoch 24/200\n",
            "32/32 [==============================] - 0s 1ms/step - loss: 0.6942 - accuracy: 0.4680\n",
            "Epoch 25/200\n",
            "32/32 [==============================] - 0s 1ms/step - loss: 0.6939 - accuracy: 0.4890\n",
            "Epoch 26/200\n",
            "32/32 [==============================] - 0s 1ms/step - loss: 0.6943 - accuracy: 0.4740\n",
            "Epoch 27/200\n",
            "32/32 [==============================] - 0s 1ms/step - loss: 0.6938 - accuracy: 0.5060\n",
            "Epoch 28/200\n",
            "32/32 [==============================] - 0s 1ms/step - loss: 0.6943 - accuracy: 0.4690\n",
            "Epoch 29/200\n",
            "32/32 [==============================] - 0s 1ms/step - loss: 0.6942 - accuracy: 0.4620\n",
            "Epoch 30/200\n",
            "32/32 [==============================] - 0s 1ms/step - loss: 0.6941 - accuracy: 0.4870\n",
            "Epoch 31/200\n",
            "32/32 [==============================] - 0s 1ms/step - loss: 0.6942 - accuracy: 0.5230\n",
            "Epoch 32/200\n",
            "32/32 [==============================] - 0s 1ms/step - loss: 0.6941 - accuracy: 0.4670\n",
            "Epoch 33/200\n",
            "32/32 [==============================] - 0s 1ms/step - loss: 0.6942 - accuracy: 0.4760\n",
            "Epoch 34/200\n",
            "32/32 [==============================] - 0s 2ms/step - loss: 0.6946 - accuracy: 0.4590\n",
            "Epoch 35/200\n",
            "32/32 [==============================] - 0s 1ms/step - loss: 0.6941 - accuracy: 0.5010\n",
            "Epoch 36/200\n",
            "32/32 [==============================] - 0s 1ms/step - loss: 0.6943 - accuracy: 0.4710\n",
            "Epoch 37/200\n",
            "32/32 [==============================] - 0s 1ms/step - loss: 0.6940 - accuracy: 0.5020\n",
            "Epoch 38/200\n",
            "32/32 [==============================] - 0s 1ms/step - loss: 0.6940 - accuracy: 0.4670\n",
            "Epoch 39/200\n",
            "32/32 [==============================] - 0s 1ms/step - loss: 0.6941 - accuracy: 0.4350\n",
            "Epoch 40/200\n",
            "32/32 [==============================] - 0s 1ms/step - loss: 0.6948 - accuracy: 0.4720\n",
            "Epoch 41/200\n",
            "32/32 [==============================] - 0s 1ms/step - loss: 0.6941 - accuracy: 0.4730\n",
            "Epoch 42/200\n",
            "32/32 [==============================] - 0s 1ms/step - loss: 0.6941 - accuracy: 0.4640\n",
            "Epoch 43/200\n",
            "32/32 [==============================] - 0s 1ms/step - loss: 0.6942 - accuracy: 0.4850\n",
            "Epoch 44/200\n",
            "32/32 [==============================] - 0s 1ms/step - loss: 0.6935 - accuracy: 0.5080\n",
            "Epoch 45/200\n",
            "32/32 [==============================] - 0s 1ms/step - loss: 0.6944 - accuracy: 0.4710\n",
            "Epoch 46/200\n",
            "32/32 [==============================] - 0s 1ms/step - loss: 0.6942 - accuracy: 0.4850\n",
            "Epoch 47/200\n",
            "32/32 [==============================] - 0s 1ms/step - loss: 0.6939 - accuracy: 0.4940\n",
            "Epoch 48/200\n",
            "32/32 [==============================] - 0s 1ms/step - loss: 0.6939 - accuracy: 0.4900\n",
            "Epoch 49/200\n",
            "32/32 [==============================] - 0s 1ms/step - loss: 0.6941 - accuracy: 0.4770\n",
            "Epoch 50/200\n",
            "32/32 [==============================] - 0s 1ms/step - loss: 0.6941 - accuracy: 0.4980\n",
            "Epoch 51/200\n",
            "32/32 [==============================] - 0s 1ms/step - loss: 0.6942 - accuracy: 0.4820\n",
            "Epoch 52/200\n",
            "32/32 [==============================] - 0s 1ms/step - loss: 0.6941 - accuracy: 0.4890\n",
            "Epoch 53/200\n",
            "32/32 [==============================] - 0s 1ms/step - loss: 0.6939 - accuracy: 0.4690\n",
            "Epoch 54/200\n",
            "32/32 [==============================] - 0s 1ms/step - loss: 0.6943 - accuracy: 0.4920\n",
            "Epoch 55/200\n",
            "32/32 [==============================] - 0s 1ms/step - loss: 0.6942 - accuracy: 0.4970\n",
            "Epoch 56/200\n",
            "32/32 [==============================] - 0s 1ms/step - loss: 0.6940 - accuracy: 0.4800\n",
            "Epoch 57/200\n",
            "32/32 [==============================] - 0s 1ms/step - loss: 0.6944 - accuracy: 0.4710\n",
            "Epoch 58/200\n",
            "32/32 [==============================] - 0s 1ms/step - loss: 0.6942 - accuracy: 0.4870\n",
            "Epoch 59/200\n",
            "32/32 [==============================] - 0s 1ms/step - loss: 0.6939 - accuracy: 0.5030\n",
            "Epoch 60/200\n",
            "32/32 [==============================] - 0s 1ms/step - loss: 0.6942 - accuracy: 0.5060\n",
            "Epoch 61/200\n",
            "32/32 [==============================] - 0s 1ms/step - loss: 0.6944 - accuracy: 0.4990\n",
            "Epoch 62/200\n",
            "32/32 [==============================] - 0s 2ms/step - loss: 0.6941 - accuracy: 0.4760\n",
            "Epoch 63/200\n",
            "32/32 [==============================] - 0s 1ms/step - loss: 0.6940 - accuracy: 0.4690\n",
            "Epoch 64/200\n",
            "32/32 [==============================] - 0s 1ms/step - loss: 0.6942 - accuracy: 0.4930\n",
            "Epoch 65/200\n",
            "32/32 [==============================] - 0s 1ms/step - loss: 0.6943 - accuracy: 0.4690\n",
            "Epoch 66/200\n",
            "32/32 [==============================] - 0s 1ms/step - loss: 0.6940 - accuracy: 0.4770\n",
            "Epoch 67/200\n",
            "32/32 [==============================] - 0s 1ms/step - loss: 0.6945 - accuracy: 0.4670\n",
            "Epoch 68/200\n",
            "32/32 [==============================] - 0s 1ms/step - loss: 0.6939 - accuracy: 0.4680\n",
            "Epoch 69/200\n",
            "32/32 [==============================] - 0s 1ms/step - loss: 0.6943 - accuracy: 0.5070\n",
            "Epoch 70/200\n",
            "32/32 [==============================] - 0s 1ms/step - loss: 0.6943 - accuracy: 0.4630\n",
            "Epoch 71/200\n",
            "32/32 [==============================] - 0s 1ms/step - loss: 0.6939 - accuracy: 0.4820\n",
            "Epoch 72/200\n",
            "32/32 [==============================] - 0s 1ms/step - loss: 0.6942 - accuracy: 0.4890\n",
            "Epoch 73/200\n",
            "32/32 [==============================] - 0s 1ms/step - loss: 0.6941 - accuracy: 0.4760\n",
            "Epoch 74/200\n",
            "32/32 [==============================] - 0s 1ms/step - loss: 0.6940 - accuracy: 0.5090\n",
            "Epoch 75/200\n",
            "32/32 [==============================] - 0s 1ms/step - loss: 0.6941 - accuracy: 0.4940\n",
            "Epoch 76/200\n",
            "32/32 [==============================] - 0s 1ms/step - loss: 0.6940 - accuracy: 0.5010\n",
            "Epoch 77/200\n",
            "32/32 [==============================] - 0s 1ms/step - loss: 0.6942 - accuracy: 0.4870\n",
            "Epoch 78/200\n",
            "32/32 [==============================] - 0s 1ms/step - loss: 0.6941 - accuracy: 0.4610\n",
            "Epoch 79/200\n",
            "32/32 [==============================] - 0s 1ms/step - loss: 0.6940 - accuracy: 0.4860\n",
            "Epoch 80/200\n",
            "32/32 [==============================] - 0s 1ms/step - loss: 0.6943 - accuracy: 0.5050\n",
            "Epoch 81/200\n",
            "32/32 [==============================] - 0s 1ms/step - loss: 0.6943 - accuracy: 0.5050\n",
            "Epoch 82/200\n",
            "32/32 [==============================] - 0s 1ms/step - loss: 0.6941 - accuracy: 0.4690\n",
            "Epoch 83/200\n",
            "32/32 [==============================] - 0s 1ms/step - loss: 0.6941 - accuracy: 0.4930\n",
            "Epoch 84/200\n",
            "32/32 [==============================] - 0s 1ms/step - loss: 0.6942 - accuracy: 0.4960\n",
            "Epoch 85/200\n",
            "32/32 [==============================] - 0s 1ms/step - loss: 0.6939 - accuracy: 0.4930\n",
            "Epoch 86/200\n",
            "32/32 [==============================] - 0s 1ms/step - loss: 0.6940 - accuracy: 0.4880\n",
            "Epoch 87/200\n",
            "32/32 [==============================] - 0s 1ms/step - loss: 0.6942 - accuracy: 0.4720\n",
            "Epoch 88/200\n",
            "32/32 [==============================] - 0s 1ms/step - loss: 0.6944 - accuracy: 0.4470\n",
            "Epoch 89/200\n",
            "32/32 [==============================] - 0s 1ms/step - loss: 0.6945 - accuracy: 0.4720\n",
            "Epoch 90/200\n",
            "32/32 [==============================] - 0s 1ms/step - loss: 0.6941 - accuracy: 0.4820\n",
            "Epoch 91/200\n",
            "32/32 [==============================] - 0s 1ms/step - loss: 0.6944 - accuracy: 0.4860\n",
            "Epoch 92/200\n",
            "32/32 [==============================] - 0s 1ms/step - loss: 0.6941 - accuracy: 0.5050\n",
            "Epoch 93/200\n",
            "32/32 [==============================] - 0s 2ms/step - loss: 0.6941 - accuracy: 0.4720\n",
            "Epoch 94/200\n",
            "32/32 [==============================] - 0s 1ms/step - loss: 0.6946 - accuracy: 0.4770\n",
            "Epoch 95/200\n",
            "32/32 [==============================] - 0s 1ms/step - loss: 0.6940 - accuracy: 0.4760\n",
            "Epoch 96/200\n",
            "32/32 [==============================] - 0s 1ms/step - loss: 0.6945 - accuracy: 0.4610\n",
            "Epoch 97/200\n",
            "32/32 [==============================] - 0s 1ms/step - loss: 0.6942 - accuracy: 0.4690\n",
            "Epoch 98/200\n",
            "32/32 [==============================] - 0s 1ms/step - loss: 0.6942 - accuracy: 0.4840\n",
            "Epoch 99/200\n",
            "32/32 [==============================] - 0s 1ms/step - loss: 0.6944 - accuracy: 0.4980\n",
            "Epoch 100/200\n",
            "32/32 [==============================] - 0s 1ms/step - loss: 0.6943 - accuracy: 0.4850\n",
            "Epoch 101/200\n",
            "32/32 [==============================] - 0s 1ms/step - loss: 0.6939 - accuracy: 0.5060\n",
            "Epoch 102/200\n",
            "32/32 [==============================] - 0s 1ms/step - loss: 0.6946 - accuracy: 0.4750\n",
            "Epoch 103/200\n",
            "32/32 [==============================] - 0s 1ms/step - loss: 0.6944 - accuracy: 0.4760\n",
            "Epoch 104/200\n",
            "32/32 [==============================] - 0s 1ms/step - loss: 0.6941 - accuracy: 0.4900\n",
            "Epoch 105/200\n",
            "32/32 [==============================] - 0s 1ms/step - loss: 0.6939 - accuracy: 0.4960\n",
            "Epoch 106/200\n",
            "32/32 [==============================] - 0s 1ms/step - loss: 0.6940 - accuracy: 0.4950\n",
            "Epoch 107/200\n",
            "32/32 [==============================] - 0s 1ms/step - loss: 0.6938 - accuracy: 0.4690\n",
            "Epoch 108/200\n",
            "32/32 [==============================] - 0s 1ms/step - loss: 0.6943 - accuracy: 0.4940\n",
            "Epoch 109/200\n",
            "32/32 [==============================] - 0s 1ms/step - loss: 0.6942 - accuracy: 0.4510\n",
            "Epoch 110/200\n",
            "32/32 [==============================] - 0s 1ms/step - loss: 0.6944 - accuracy: 0.4570\n",
            "Epoch 111/200\n",
            "32/32 [==============================] - 0s 1ms/step - loss: 0.6943 - accuracy: 0.4820\n",
            "Epoch 112/200\n",
            "32/32 [==============================] - 0s 1ms/step - loss: 0.6946 - accuracy: 0.4770\n",
            "Epoch 113/200\n",
            "32/32 [==============================] - 0s 1ms/step - loss: 0.6944 - accuracy: 0.4740\n",
            "Epoch 114/200\n",
            "32/32 [==============================] - 0s 1ms/step - loss: 0.6944 - accuracy: 0.4660\n",
            "Epoch 115/200\n",
            "32/32 [==============================] - 0s 1ms/step - loss: 0.6941 - accuracy: 0.4690\n",
            "Epoch 116/200\n",
            "32/32 [==============================] - 0s 1ms/step - loss: 0.6942 - accuracy: 0.4830\n",
            "Epoch 117/200\n",
            "32/32 [==============================] - 0s 1ms/step - loss: 0.6943 - accuracy: 0.5000\n",
            "Epoch 118/200\n",
            "32/32 [==============================] - 0s 1ms/step - loss: 0.6939 - accuracy: 0.4990\n",
            "Epoch 119/200\n",
            "32/32 [==============================] - 0s 1ms/step - loss: 0.6944 - accuracy: 0.4750\n",
            "Epoch 120/200\n",
            "32/32 [==============================] - 0s 1ms/step - loss: 0.6940 - accuracy: 0.4980\n",
            "Epoch 121/200\n",
            "32/32 [==============================] - 0s 1ms/step - loss: 0.6942 - accuracy: 0.4740\n",
            "Epoch 122/200\n",
            "32/32 [==============================] - 0s 1ms/step - loss: 0.6941 - accuracy: 0.4920\n",
            "Epoch 123/200\n",
            "32/32 [==============================] - 0s 1ms/step - loss: 0.6944 - accuracy: 0.4640\n",
            "Epoch 124/200\n",
            "32/32 [==============================] - 0s 1ms/step - loss: 0.6943 - accuracy: 0.4660\n",
            "Epoch 125/200\n",
            "32/32 [==============================] - 0s 1ms/step - loss: 0.6940 - accuracy: 0.4800\n",
            "Epoch 126/200\n",
            "32/32 [==============================] - 0s 1ms/step - loss: 0.6941 - accuracy: 0.4960\n",
            "Epoch 127/200\n",
            "32/32 [==============================] - 0s 1ms/step - loss: 0.6942 - accuracy: 0.4760\n",
            "Epoch 128/200\n",
            "32/32 [==============================] - 0s 1ms/step - loss: 0.6943 - accuracy: 0.4920\n",
            "Epoch 129/200\n",
            "32/32 [==============================] - 0s 1ms/step - loss: 0.6939 - accuracy: 0.5100\n",
            "Epoch 130/200\n",
            "32/32 [==============================] - 0s 1ms/step - loss: 0.6936 - accuracy: 0.4840\n",
            "Epoch 131/200\n",
            "32/32 [==============================] - 0s 1ms/step - loss: 0.6944 - accuracy: 0.4780\n",
            "Epoch 132/200\n",
            "32/32 [==============================] - 0s 1ms/step - loss: 0.6939 - accuracy: 0.4760\n",
            "Epoch 133/200\n",
            "32/32 [==============================] - 0s 2ms/step - loss: 0.6942 - accuracy: 0.4800\n",
            "Epoch 134/200\n",
            "32/32 [==============================] - 0s 1ms/step - loss: 0.6944 - accuracy: 0.4740\n",
            "Epoch 135/200\n",
            "32/32 [==============================] - 0s 1ms/step - loss: 0.6943 - accuracy: 0.4670\n",
            "Epoch 136/200\n",
            "32/32 [==============================] - 0s 1ms/step - loss: 0.6944 - accuracy: 0.4590\n",
            "Epoch 137/200\n",
            "32/32 [==============================] - 0s 1ms/step - loss: 0.6943 - accuracy: 0.4840\n",
            "Epoch 138/200\n",
            "32/32 [==============================] - 0s 1ms/step - loss: 0.6943 - accuracy: 0.4610\n",
            "Epoch 139/200\n",
            "32/32 [==============================] - 0s 1ms/step - loss: 0.6942 - accuracy: 0.4810\n",
            "Epoch 140/200\n",
            "32/32 [==============================] - 0s 1ms/step - loss: 0.6942 - accuracy: 0.4610\n",
            "Epoch 141/200\n",
            "32/32 [==============================] - 0s 1ms/step - loss: 0.6941 - accuracy: 0.4630\n",
            "Epoch 142/200\n",
            "32/32 [==============================] - 0s 1ms/step - loss: 0.6941 - accuracy: 0.4790\n",
            "Epoch 143/200\n",
            "32/32 [==============================] - 0s 1ms/step - loss: 0.6943 - accuracy: 0.4790\n",
            "Epoch 144/200\n",
            "32/32 [==============================] - 0s 1ms/step - loss: 0.6943 - accuracy: 0.4650\n",
            "Epoch 145/200\n",
            "32/32 [==============================] - 0s 1ms/step - loss: 0.6943 - accuracy: 0.4990\n",
            "Epoch 146/200\n",
            "32/32 [==============================] - 0s 1ms/step - loss: 0.6945 - accuracy: 0.4570\n",
            "Epoch 147/200\n",
            "32/32 [==============================] - 0s 1ms/step - loss: 0.6943 - accuracy: 0.5110\n",
            "Epoch 148/200\n",
            "32/32 [==============================] - 0s 1ms/step - loss: 0.6943 - accuracy: 0.4880\n",
            "Epoch 149/200\n",
            "32/32 [==============================] - 0s 1ms/step - loss: 0.6941 - accuracy: 0.4500\n",
            "Epoch 150/200\n",
            "32/32 [==============================] - 0s 1ms/step - loss: 0.6943 - accuracy: 0.4700\n",
            "Epoch 151/200\n",
            "32/32 [==============================] - 0s 1ms/step - loss: 0.6938 - accuracy: 0.4620\n",
            "Epoch 152/200\n",
            "32/32 [==============================] - 0s 1ms/step - loss: 0.6940 - accuracy: 0.4990\n",
            "Epoch 153/200\n",
            "32/32 [==============================] - 0s 1ms/step - loss: 0.6942 - accuracy: 0.4870\n",
            "Epoch 154/200\n",
            "32/32 [==============================] - 0s 2ms/step - loss: 0.6936 - accuracy: 0.4810\n",
            "Epoch 155/200\n",
            "32/32 [==============================] - 0s 1ms/step - loss: 0.6944 - accuracy: 0.4780\n",
            "Epoch 156/200\n",
            "32/32 [==============================] - 0s 1ms/step - loss: 0.6944 - accuracy: 0.4680\n",
            "Epoch 157/200\n",
            "32/32 [==============================] - 0s 1ms/step - loss: 0.6944 - accuracy: 0.4990\n",
            "Epoch 158/200\n",
            "32/32 [==============================] - 0s 1ms/step - loss: 0.6940 - accuracy: 0.4940\n",
            "Epoch 159/200\n",
            "32/32 [==============================] - 0s 1ms/step - loss: 0.6943 - accuracy: 0.4710\n",
            "Epoch 160/200\n",
            "32/32 [==============================] - 0s 1ms/step - loss: 0.6943 - accuracy: 0.4880\n",
            "Epoch 161/200\n",
            "32/32 [==============================] - 0s 1ms/step - loss: 0.6942 - accuracy: 0.4770\n",
            "Epoch 162/200\n",
            "32/32 [==============================] - 0s 1ms/step - loss: 0.6943 - accuracy: 0.4920\n",
            "Epoch 163/200\n",
            "32/32 [==============================] - 0s 1ms/step - loss: 0.6946 - accuracy: 0.4690\n",
            "Epoch 164/200\n",
            "32/32 [==============================] - 0s 1ms/step - loss: 0.6943 - accuracy: 0.4610\n",
            "Epoch 165/200\n",
            "32/32 [==============================] - 0s 2ms/step - loss: 0.6939 - accuracy: 0.4970\n",
            "Epoch 166/200\n",
            "32/32 [==============================] - 0s 1ms/step - loss: 0.6942 - accuracy: 0.4800\n",
            "Epoch 167/200\n",
            "32/32 [==============================] - 0s 1ms/step - loss: 0.6948 - accuracy: 0.4930\n",
            "Epoch 168/200\n",
            "32/32 [==============================] - 0s 1ms/step - loss: 0.6941 - accuracy: 0.4690\n",
            "Epoch 169/200\n",
            "32/32 [==============================] - 0s 1ms/step - loss: 0.6940 - accuracy: 0.4880\n",
            "Epoch 170/200\n",
            "32/32 [==============================] - 0s 1ms/step - loss: 0.6938 - accuracy: 0.4850\n",
            "Epoch 171/200\n",
            "32/32 [==============================] - 0s 1ms/step - loss: 0.6939 - accuracy: 0.4980\n",
            "Epoch 172/200\n",
            "32/32 [==============================] - 0s 1ms/step - loss: 0.6942 - accuracy: 0.4770\n",
            "Epoch 173/200\n",
            "32/32 [==============================] - 0s 1ms/step - loss: 0.6942 - accuracy: 0.4730\n",
            "Epoch 174/200\n",
            "32/32 [==============================] - 0s 1ms/step - loss: 0.6943 - accuracy: 0.4950\n",
            "Epoch 175/200\n",
            "32/32 [==============================] - 0s 2ms/step - loss: 0.6946 - accuracy: 0.4900\n",
            "Epoch 176/200\n",
            "32/32 [==============================] - 0s 1ms/step - loss: 0.6942 - accuracy: 0.4770\n",
            "Epoch 177/200\n",
            "32/32 [==============================] - 0s 1ms/step - loss: 0.6941 - accuracy: 0.4670\n",
            "Epoch 178/200\n",
            "32/32 [==============================] - 0s 1ms/step - loss: 0.6941 - accuracy: 0.4840\n",
            "Epoch 179/200\n",
            "32/32 [==============================] - 0s 1ms/step - loss: 0.6943 - accuracy: 0.4880\n",
            "Epoch 180/200\n",
            "32/32 [==============================] - 0s 1ms/step - loss: 0.6942 - accuracy: 0.4960\n",
            "Epoch 181/200\n",
            "32/32 [==============================] - 0s 1ms/step - loss: 0.6943 - accuracy: 0.4890\n",
            "Epoch 182/200\n",
            "32/32 [==============================] - 0s 1ms/step - loss: 0.6941 - accuracy: 0.4760\n",
            "Epoch 183/200\n",
            "32/32 [==============================] - 0s 1ms/step - loss: 0.6942 - accuracy: 0.5030\n",
            "Epoch 184/200\n",
            "32/32 [==============================] - 0s 1ms/step - loss: 0.6943 - accuracy: 0.4890\n",
            "Epoch 185/200\n",
            "32/32 [==============================] - 0s 1ms/step - loss: 0.6944 - accuracy: 0.4890\n",
            "Epoch 186/200\n",
            "32/32 [==============================] - 0s 1ms/step - loss: 0.6945 - accuracy: 0.4810\n",
            "Epoch 187/200\n",
            "32/32 [==============================] - 0s 1ms/step - loss: 0.6943 - accuracy: 0.4760\n",
            "Epoch 188/200\n",
            "32/32 [==============================] - 0s 1ms/step - loss: 0.6943 - accuracy: 0.4910\n",
            "Epoch 189/200\n",
            "32/32 [==============================] - 0s 1ms/step - loss: 0.6940 - accuracy: 0.5120\n",
            "Epoch 190/200\n",
            "32/32 [==============================] - 0s 1ms/step - loss: 0.6943 - accuracy: 0.4720\n",
            "Epoch 191/200\n",
            "32/32 [==============================] - 0s 1ms/step - loss: 0.6941 - accuracy: 0.4770\n",
            "Epoch 192/200\n",
            "32/32 [==============================] - 0s 1ms/step - loss: 0.6940 - accuracy: 0.4970\n",
            "Epoch 193/200\n",
            "32/32 [==============================] - 0s 1ms/step - loss: 0.6939 - accuracy: 0.4720\n",
            "Epoch 194/200\n",
            "32/32 [==============================] - 0s 1ms/step - loss: 0.6941 - accuracy: 0.4940\n",
            "Epoch 195/200\n",
            "32/32 [==============================] - 0s 1ms/step - loss: 0.6942 - accuracy: 0.4660\n",
            "Epoch 196/200\n",
            "32/32 [==============================] - 0s 1ms/step - loss: 0.6943 - accuracy: 0.4740\n",
            "Epoch 197/200\n",
            "32/32 [==============================] - 0s 1ms/step - loss: 0.6942 - accuracy: 0.4890\n",
            "Epoch 198/200\n",
            "32/32 [==============================] - 0s 1ms/step - loss: 0.6943 - accuracy: 0.4830\n",
            "Epoch 199/200\n",
            "32/32 [==============================] - 0s 1ms/step - loss: 0.6937 - accuracy: 0.5120\n",
            "Epoch 200/200\n",
            "32/32 [==============================] - 0s 1ms/step - loss: 0.6941 - accuracy: 0.4810\n"
          ]
        },
        {
          "output_type": "execute_result",
          "data": {
            "text/plain": [
              "<keras.callbacks.History at 0x7fe820230f90>"
            ]
          },
          "metadata": {},
          "execution_count": 8
        }
      ]
    },
    {
      "cell_type": "code",
      "metadata": {
        "colab": {
          "base_uri": "https://localhost:8080/"
        },
        "id": "aNq9vAaUUZ7-",
        "outputId": "3305ed4f-9411-40e7-c22d-132c20516172"
      },
      "source": [
        "model1.evaluate(X,y)"
      ],
      "execution_count": null,
      "outputs": [
        {
          "output_type": "stream",
          "name": "stdout",
          "text": [
            "32/32 [==============================] - 0s 1ms/step - loss: 0.6935 - accuracy: 0.5000\n"
          ]
        },
        {
          "output_type": "execute_result",
          "data": {
            "text/plain": [
              "[0.6934829950332642, 0.5]"
            ]
          },
          "metadata": {},
          "execution_count": 9
        }
      ]
    },
    {
      "cell_type": "code",
      "metadata": {
        "colab": {
          "base_uri": "https://localhost:8080/"
        },
        "id": "OlORtEzaSwLA",
        "outputId": "00a193a2-f044-46b7-d459-bfae1eea5631"
      },
      "source": [
        "# lets improve our model\n",
        "\n",
        "tf.random.set_seed(42)\n",
        "\n",
        "model2 = tf.keras.Sequential([\n",
        "                              tf.keras.layers.Dense(1),\n",
        "                              tf.keras.layers.Dense(1)\n",
        "])\n",
        "\n",
        "model2.compile(loss= tf.keras.losses.BinaryCrossentropy(),\n",
        "               optimizer=tf.keras.optimizers.SGD(),\n",
        "               metrics=['accuracy'])\n",
        "\n",
        "model2.fit(X,y,epochs=100, verbose=0)\n",
        "\n",
        "model2.evaluate(X,y)"
      ],
      "execution_count": null,
      "outputs": [
        {
          "output_type": "stream",
          "name": "stdout",
          "text": [
            "32/32 [==============================] - 0s 986us/step - loss: 0.6933 - accuracy: 0.5000\n"
          ]
        },
        {
          "output_type": "execute_result",
          "data": {
            "text/plain": [
              "[0.6933314800262451, 0.5]"
            ]
          },
          "metadata": {},
          "execution_count": 10
        }
      ]
    },
    {
      "cell_type": "markdown",
      "metadata": {
        "id": "v54g9qjdU2-s"
      },
      "source": [
        "### Improving our model"
      ]
    },
    {
      "cell_type": "code",
      "metadata": {
        "colab": {
          "base_uri": "https://localhost:8080/"
        },
        "id": "zMz_rsRaUnq7",
        "outputId": "f25d7d53-7df6-4887-c176-986287d83258"
      },
      "source": [
        "tf.random.set_seed(42)\n",
        "\n",
        "model3 = tf.keras.Sequential([\n",
        "                              tf.keras.layers.Dense(100),\n",
        "                              tf.keras.layers.Dense(10),\n",
        "                              tf.keras.layers.Dense(1)\n",
        "])\n",
        "\n",
        "model3.compile(loss=tf.keras.losses.BinaryCrossentropy(),\n",
        "               optimizer=tf.keras.optimizers.Adam(),\n",
        "               metrics=['accuracy'])\n",
        "\n",
        "#fit the model\n",
        "model3.fit(X,y,epochs=100, verbose=0)\n",
        "\n",
        "# Evaluate the model\n",
        "model3.evaluate(X,y)"
      ],
      "execution_count": null,
      "outputs": [
        {
          "output_type": "stream",
          "name": "stdout",
          "text": [
            "32/32 [==============================] - 0s 1ms/step - loss: 0.6980 - accuracy: 0.5080\n"
          ]
        },
        {
          "output_type": "execute_result",
          "data": {
            "text/plain": [
              "[0.6980254650115967, 0.5080000162124634]"
            ]
          },
          "metadata": {},
          "execution_count": 11
        }
      ]
    },
    {
      "cell_type": "markdown",
      "metadata": {
        "id": "bZZd4uWdWe6t"
      },
      "source": [
        "To vizualize our model prediction\n",
        "\n"
      ]
    },
    {
      "cell_type": "code",
      "metadata": {
        "id": "vFoIsdUTaxLv"
      },
      "source": [
        "import numpy as np"
      ],
      "execution_count": null,
      "outputs": []
    },
    {
      "cell_type": "code",
      "metadata": {
        "id": "Y5yECY5RXWgn"
      },
      "source": [
        "\n",
        "\n",
        "def plot_decision_boundary(model, X, y):\n",
        "\n",
        "  x_min, x_max = X[:,0].min() - 0.1, X[:,0].max() + 0.1\n",
        "  y_min, y_max = X[:,1].min() - 0.1, X[:,1].max() + 0.1\n",
        "  xx, yy = np.meshgrid(np.linspace(x_min, x_max, 100),\n",
        "                       np.linspace(y_min,y_max, 100))\n",
        "  \n",
        "  # create x value (we're going to make prediction on these)\n",
        "  x_in = np.c_[xx.ravel(), yy.ravel()] # stack 2D arrays together\n",
        "\n",
        "  # Make Predictions\n",
        "\n",
        "  y_pred = model.predict(x_in)\n",
        "\n",
        "  # check for multiclass \n",
        "\n",
        "  if len(y_pred[0]) > 1:\n",
        "    print('doing multiclass classification')\n",
        "    # we have to reshape our prediction to get them ready for plotting\n",
        "    y_pred = np.argmax(y_pred, axis=1).reshape(xx.shape)\n",
        "  else:\n",
        "    print('doing binary classification')\n",
        "    y_pred = np.round(y_pred).reshape(xx.shape)\n",
        "\n",
        "  # Plot the decision boundary\n",
        "  plt.contourf(xx, yy, y_pred, cmap=plt.cm.RdYlBu, alpha=0.7)\n",
        "  plt.scatter(X[:,0], X[:,1],c=y,s=40,cmap=plt.cm.RdYlBu)\n",
        "  plt.xlim(xx.min(), xx.max())\n",
        "  plt.ylim(yy.min(), yy.max())"
      ],
      "execution_count": null,
      "outputs": []
    },
    {
      "cell_type": "code",
      "metadata": {
        "colab": {
          "base_uri": "https://localhost:8080/"
        },
        "id": "dr6lpugwYO8v",
        "outputId": "d78f8c7e-0c0a-4c8e-a46d-e57f4e0de3c0"
      },
      "source": [
        "x_min, x_max = X[:,0].min() - 0.1, X[:,0].max() + 0.1\n",
        "y_min, y_max = X[:,1].min() - 0.1, X[:,1].max() + 0.1\n",
        "\n",
        "x_min, x_max, y_min, y_max"
      ],
      "execution_count": null,
      "outputs": [
        {
          "output_type": "execute_result",
          "data": {
            "text/plain": [
              "(-1.1595024599098636,\n",
              " 1.1337117525463374,\n",
              " -1.1677683182718437,\n",
              " 1.1360036756154805)"
            ]
          },
          "metadata": {},
          "execution_count": 14
        }
      ]
    },
    {
      "cell_type": "code",
      "metadata": {
        "colab": {
          "base_uri": "https://localhost:8080/"
        },
        "id": "LQRaATmvYXpO",
        "outputId": "f743a5e4-a606-4f17-acbd-7f04e7f9d76b"
      },
      "source": [
        "xx, yy = np.meshgrid(np.linspace(x_min, x_max, 100),\n",
        "                       np.linspace(y_min,y_max, 100))\n",
        "xx, yy"
      ],
      "execution_count": null,
      "outputs": [
        {
          "output_type": "execute_result",
          "data": {
            "text/plain": [
              "(array([[-1.15950246, -1.13633868, -1.1131749 , ...,  1.08738419,\n",
              "          1.11054797,  1.13371175],\n",
              "        [-1.15950246, -1.13633868, -1.1131749 , ...,  1.08738419,\n",
              "          1.11054797,  1.13371175],\n",
              "        [-1.15950246, -1.13633868, -1.1131749 , ...,  1.08738419,\n",
              "          1.11054797,  1.13371175],\n",
              "        ...,\n",
              "        [-1.15950246, -1.13633868, -1.1131749 , ...,  1.08738419,\n",
              "          1.11054797,  1.13371175],\n",
              "        [-1.15950246, -1.13633868, -1.1131749 , ...,  1.08738419,\n",
              "          1.11054797,  1.13371175],\n",
              "        [-1.15950246, -1.13633868, -1.1131749 , ...,  1.08738419,\n",
              "          1.11054797,  1.13371175]]),\n",
              " array([[-1.16776832, -1.16776832, -1.16776832, ..., -1.16776832,\n",
              "         -1.16776832, -1.16776832],\n",
              "        [-1.14449789, -1.14449789, -1.14449789, ..., -1.14449789,\n",
              "         -1.14449789, -1.14449789],\n",
              "        [-1.12122747, -1.12122747, -1.12122747, ..., -1.12122747,\n",
              "         -1.12122747, -1.12122747],\n",
              "        ...,\n",
              "        [ 1.08946283,  1.08946283,  1.08946283, ...,  1.08946283,\n",
              "          1.08946283,  1.08946283],\n",
              "        [ 1.11273325,  1.11273325,  1.11273325, ...,  1.11273325,\n",
              "          1.11273325,  1.11273325],\n",
              "        [ 1.13600368,  1.13600368,  1.13600368, ...,  1.13600368,\n",
              "          1.13600368,  1.13600368]]))"
            ]
          },
          "metadata": {},
          "execution_count": 15
        }
      ]
    },
    {
      "cell_type": "code",
      "metadata": {
        "colab": {
          "base_uri": "https://localhost:8080/"
        },
        "id": "gDeZVvq0auki",
        "outputId": "58c1b5fb-aec3-4842-c64e-99fc0a31d92d"
      },
      "source": [
        "x_in = np.c_[xx.ravel(), yy.ravel()]\n",
        "x_in"
      ],
      "execution_count": null,
      "outputs": [
        {
          "output_type": "execute_result",
          "data": {
            "text/plain": [
              "array([[-1.15950246, -1.16776832],\n",
              "       [-1.13633868, -1.16776832],\n",
              "       [-1.1131749 , -1.16776832],\n",
              "       ...,\n",
              "       [ 1.08738419,  1.13600368],\n",
              "       [ 1.11054797,  1.13600368],\n",
              "       [ 1.13371175,  1.13600368]])"
            ]
          },
          "metadata": {},
          "execution_count": 16
        }
      ]
    },
    {
      "cell_type": "code",
      "metadata": {
        "colab": {
          "base_uri": "https://localhost:8080/",
          "height": 283
        },
        "id": "Q1Iyv_Yxb8aE",
        "outputId": "00a5e267-e396-40d2-f0ba-73b4f73600eb"
      },
      "source": [
        "plot_decision_boundary(model=model3,X=X,y=y)"
      ],
      "execution_count": null,
      "outputs": [
        {
          "output_type": "stream",
          "name": "stdout",
          "text": [
            "doing binary classification\n"
          ]
        },
        {
          "output_type": "display_data",
          "data": {
            "image/png": "[encoded data removed]",
            "text/plain": [
              "<Figure size 432x288 with 1 Axes>"
            ]
          },
          "metadata": {
            "needs_background": "light"
          }
        }
      ]
    },
    {
      "cell_type": "code",
      "metadata": {
        "id": "93736BvNebvS",
        "colab": {
          "base_uri": "https://localhost:8080/"
        },
        "outputId": "05c56140-3b47-441d-d431-e0f115b82279"
      },
      "source": [
        "tf.random.set_seed(42)\n",
        "\n",
        "model4 = tf.keras.Sequential([\n",
        "                              tf.keras.layers.Dense(1, activation=tf.keras.activations.linear)\n",
        "])\n",
        "\n",
        "model4.compile(loss='binary_crossentropy',\n",
        "               optimizer=tf.keras.optimizers.Adam(),\n",
        "               metrics=['accuracy'])\n",
        "\n",
        "history = model4.fit(X,y,epochs=100)"
      ],
      "execution_count": null,
      "outputs": [
        {
          "output_type": "stream",
          "name": "stdout",
          "text": [
            "Epoch 1/100\n",
            "32/32 [==============================] - 0s 1ms/step - loss: 4.2979 - accuracy: 0.4670\n",
            "Epoch 2/100\n",
            "32/32 [==============================] - 0s 1ms/step - loss: 4.2317 - accuracy: 0.4400\n",
            "Epoch 3/100\n",
            "32/32 [==============================] - 0s 1ms/step - loss: 4.1610 - accuracy: 0.4310\n",
            "Epoch 4/100\n",
            "32/32 [==============================] - 0s 1ms/step - loss: 4.1183 - accuracy: 0.4270\n",
            "Epoch 5/100\n",
            "32/32 [==============================] - 0s 1ms/step - loss: 4.0784 - accuracy: 0.4240\n",
            "Epoch 6/100\n",
            "32/32 [==============================] - 0s 1ms/step - loss: 3.9604 - accuracy: 0.4170\n",
            "Epoch 7/100\n",
            "32/32 [==============================] - 0s 1ms/step - loss: 3.8936 - accuracy: 0.4110\n",
            "Epoch 8/100\n",
            "32/32 [==============================] - 0s 1ms/step - loss: 3.7818 - accuracy: 0.4140\n",
            "Epoch 9/100\n",
            "32/32 [==============================] - 0s 1ms/step - loss: 3.7564 - accuracy: 0.4140\n",
            "Epoch 10/100\n",
            "32/32 [==============================] - 0s 1ms/step - loss: 3.7547 - accuracy: 0.4150\n",
            "Epoch 11/100\n",
            "32/32 [==============================] - 0s 1ms/step - loss: 3.7537 - accuracy: 0.4140\n",
            "Epoch 12/100\n",
            "32/32 [==============================] - 0s 1ms/step - loss: 3.7526 - accuracy: 0.4140\n",
            "Epoch 13/100\n",
            "32/32 [==============================] - 0s 1ms/step - loss: 3.7518 - accuracy: 0.4140\n",
            "Epoch 14/100\n",
            "32/32 [==============================] - 0s 1ms/step - loss: 3.7510 - accuracy: 0.4140\n",
            "Epoch 15/100\n",
            "32/32 [==============================] - 0s 1ms/step - loss: 3.7503 - accuracy: 0.4130\n",
            "Epoch 16/100\n",
            "32/32 [==============================] - 0s 1ms/step - loss: 3.7497 - accuracy: 0.4130\n",
            "Epoch 17/100\n",
            "32/32 [==============================] - 0s 1ms/step - loss: 3.7490 - accuracy: 0.4130\n",
            "Epoch 18/100\n",
            "32/32 [==============================] - 0s 1ms/step - loss: 3.7484 - accuracy: 0.4130\n",
            "Epoch 19/100\n",
            "32/32 [==============================] - 0s 1ms/step - loss: 3.7478 - accuracy: 0.4120\n",
            "Epoch 20/100\n",
            "32/32 [==============================] - 0s 1ms/step - loss: 3.7472 - accuracy: 0.4120\n",
            "Epoch 21/100\n",
            "32/32 [==============================] - 0s 1ms/step - loss: 3.7466 - accuracy: 0.4110\n",
            "Epoch 22/100\n",
            "32/32 [==============================] - 0s 1ms/step - loss: 3.7461 - accuracy: 0.4110\n",
            "Epoch 23/100\n",
            "32/32 [==============================] - 0s 1ms/step - loss: 3.7455 - accuracy: 0.4110\n",
            "Epoch 24/100\n",
            "32/32 [==============================] - 0s 1ms/step - loss: 3.7450 - accuracy: 0.4110\n",
            "Epoch 25/100\n",
            "32/32 [==============================] - 0s 1ms/step - loss: 3.7366 - accuracy: 0.4120\n",
            "Epoch 26/100\n",
            "32/32 [==============================] - 0s 1ms/step - loss: 3.7256 - accuracy: 0.4120\n",
            "Epoch 27/100\n",
            "32/32 [==============================] - 0s 1ms/step - loss: 3.7230 - accuracy: 0.4140\n",
            "Epoch 28/100\n",
            "32/32 [==============================] - 0s 1ms/step - loss: 3.7215 - accuracy: 0.4140\n",
            "Epoch 29/100\n",
            "32/32 [==============================] - 0s 1ms/step - loss: 3.7204 - accuracy: 0.4150\n",
            "Epoch 30/100\n",
            "32/32 [==============================] - 0s 2ms/step - loss: 3.7196 - accuracy: 0.4160\n",
            "Epoch 31/100\n",
            "32/32 [==============================] - 0s 1ms/step - loss: 3.7188 - accuracy: 0.4170\n",
            "Epoch 32/100\n",
            "32/32 [==============================] - 0s 1ms/step - loss: 3.7181 - accuracy: 0.4170\n",
            "Epoch 33/100\n",
            "32/32 [==============================] - 0s 1ms/step - loss: 3.7174 - accuracy: 0.4170\n",
            "Epoch 34/100\n",
            "32/32 [==============================] - 0s 1ms/step - loss: 3.7167 - accuracy: 0.4170\n",
            "Epoch 35/100\n",
            "32/32 [==============================] - 0s 1ms/step - loss: 3.7161 - accuracy: 0.4160\n",
            "Epoch 36/100\n",
            "32/32 [==============================] - 0s 1ms/step - loss: 3.7153 - accuracy: 0.4150\n",
            "Epoch 37/100\n",
            "32/32 [==============================] - 0s 1ms/step - loss: 3.7147 - accuracy: 0.4150\n",
            "Epoch 38/100\n",
            "32/32 [==============================] - 0s 1ms/step - loss: 3.7141 - accuracy: 0.4150\n",
            "Epoch 39/100\n",
            "32/32 [==============================] - 0s 1ms/step - loss: 3.7135 - accuracy: 0.4150\n",
            "Epoch 40/100\n",
            "32/32 [==============================] - 0s 1ms/step - loss: 3.7129 - accuracy: 0.4150\n",
            "Epoch 41/100\n",
            "32/32 [==============================] - 0s 1ms/step - loss: 3.7123 - accuracy: 0.4150\n",
            "Epoch 42/100\n",
            "32/32 [==============================] - 0s 1ms/step - loss: 3.7118 - accuracy: 0.4160\n",
            "Epoch 43/100\n",
            "32/32 [==============================] - 0s 1ms/step - loss: 3.7112 - accuracy: 0.4160\n",
            "Epoch 44/100\n",
            "32/32 [==============================] - 0s 1ms/step - loss: 3.7107 - accuracy: 0.4160\n",
            "Epoch 45/100\n",
            "32/32 [==============================] - 0s 1ms/step - loss: 3.7101 - accuracy: 0.4150\n",
            "Epoch 46/100\n",
            "32/32 [==============================] - 0s 1ms/step - loss: 3.7096 - accuracy: 0.4170\n",
            "Epoch 47/100\n",
            "32/32 [==============================] - 0s 1ms/step - loss: 3.7091 - accuracy: 0.4170\n",
            "Epoch 48/100\n",
            "32/32 [==============================] - 0s 1ms/step - loss: 3.7014 - accuracy: 0.4170\n",
            "Epoch 49/100\n",
            "32/32 [==============================] - 0s 1ms/step - loss: 3.6892 - accuracy: 0.4190\n",
            "Epoch 50/100\n",
            "32/32 [==============================] - 0s 1ms/step - loss: 3.6856 - accuracy: 0.4190\n",
            "Epoch 51/100\n",
            "32/32 [==============================] - 0s 1ms/step - loss: 3.6846 - accuracy: 0.4190\n",
            "Epoch 52/100\n",
            "32/32 [==============================] - 0s 1ms/step - loss: 3.6837 - accuracy: 0.4190\n",
            "Epoch 53/100\n",
            "32/32 [==============================] - 0s 1ms/step - loss: 3.6829 - accuracy: 0.4190\n",
            "Epoch 54/100\n",
            "32/32 [==============================] - 0s 1ms/step - loss: 3.6821 - accuracy: 0.4190\n",
            "Epoch 55/100\n",
            "32/32 [==============================] - 0s 2ms/step - loss: 3.6814 - accuracy: 0.4190\n",
            "Epoch 56/100\n",
            "32/32 [==============================] - 0s 1ms/step - loss: 3.6807 - accuracy: 0.4200\n",
            "Epoch 57/100\n",
            "32/32 [==============================] - 0s 1ms/step - loss: 3.6727 - accuracy: 0.4210\n",
            "Epoch 58/100\n",
            "32/32 [==============================] - 0s 1ms/step - loss: 3.6690 - accuracy: 0.4190\n",
            "Epoch 59/100\n",
            "32/32 [==============================] - 0s 1ms/step - loss: 3.6677 - accuracy: 0.4190\n",
            "Epoch 60/100\n",
            "32/32 [==============================] - 0s 1ms/step - loss: 3.6585 - accuracy: 0.4190\n",
            "Epoch 61/100\n",
            "32/32 [==============================] - 0s 1ms/step - loss: 3.6489 - accuracy: 0.4200\n",
            "Epoch 62/100\n",
            "32/32 [==============================] - 0s 1ms/step - loss: 3.6330 - accuracy: 0.4190\n",
            "Epoch 63/100\n",
            "32/32 [==============================] - 0s 1ms/step - loss: 3.6282 - accuracy: 0.4200\n",
            "Epoch 64/100\n",
            "32/32 [==============================] - 0s 1ms/step - loss: 3.6162 - accuracy: 0.4220\n",
            "Epoch 65/100\n",
            "32/32 [==============================] - 0s 1ms/step - loss: 3.6062 - accuracy: 0.4240\n",
            "Epoch 66/100\n",
            "32/32 [==============================] - 0s 1ms/step - loss: 3.6031 - accuracy: 0.4260\n",
            "Epoch 67/100\n",
            "32/32 [==============================] - 0s 1ms/step - loss: 3.6012 - accuracy: 0.4280\n",
            "Epoch 68/100\n",
            "32/32 [==============================] - 0s 1ms/step - loss: 3.5999 - accuracy: 0.4280\n",
            "Epoch 69/100\n",
            "32/32 [==============================] - 0s 1ms/step - loss: 3.5904 - accuracy: 0.4290\n",
            "Epoch 70/100\n",
            "32/32 [==============================] - 0s 1ms/step - loss: 3.5858 - accuracy: 0.4300\n",
            "Epoch 71/100\n",
            "32/32 [==============================] - 0s 1ms/step - loss: 3.5846 - accuracy: 0.4300\n",
            "Epoch 72/100\n",
            "32/32 [==============================] - 0s 1ms/step - loss: 3.5836 - accuracy: 0.4300\n",
            "Epoch 73/100\n",
            "32/32 [==============================] - 0s 1ms/step - loss: 3.5826 - accuracy: 0.4310\n",
            "Epoch 74/100\n",
            "32/32 [==============================] - 0s 1ms/step - loss: 3.5817 - accuracy: 0.4330\n",
            "Epoch 75/100\n",
            "32/32 [==============================] - 0s 1ms/step - loss: 3.5656 - accuracy: 0.4360\n",
            "Epoch 76/100\n",
            "32/32 [==============================] - 0s 1ms/step - loss: 3.5355 - accuracy: 0.4410\n",
            "Epoch 77/100\n",
            "32/32 [==============================] - 0s 1ms/step - loss: 3.5335 - accuracy: 0.4410\n",
            "Epoch 78/100\n",
            "32/32 [==============================] - 0s 1ms/step - loss: 3.5319 - accuracy: 0.4420\n",
            "Epoch 79/100\n",
            "32/32 [==============================] - 0s 1ms/step - loss: 3.5306 - accuracy: 0.4420\n",
            "Epoch 80/100\n",
            "32/32 [==============================] - 0s 1ms/step - loss: 3.5208 - accuracy: 0.4420\n",
            "Epoch 81/100\n",
            "32/32 [==============================] - 0s 1ms/step - loss: 3.5172 - accuracy: 0.4420\n",
            "Epoch 82/100\n",
            "32/32 [==============================] - 0s 1ms/step - loss: 3.5157 - accuracy: 0.4430\n",
            "Epoch 83/100\n",
            "32/32 [==============================] - 0s 1ms/step - loss: 3.5144 - accuracy: 0.4450\n",
            "Epoch 84/100\n",
            "32/32 [==============================] - 0s 1ms/step - loss: 3.5132 - accuracy: 0.4450\n",
            "Epoch 85/100\n",
            "32/32 [==============================] - 0s 1ms/step - loss: 3.5043 - accuracy: 0.4460\n",
            "Epoch 86/100\n",
            "32/32 [==============================] - 0s 1ms/step - loss: 3.5002 - accuracy: 0.4470\n",
            "Epoch 87/100\n",
            "32/32 [==============================] - 0s 1ms/step - loss: 3.4905 - accuracy: 0.4470\n",
            "Epoch 88/100\n",
            "32/32 [==============================] - 0s 1ms/step - loss: 3.4788 - accuracy: 0.4470\n",
            "Epoch 89/100\n",
            "32/32 [==============================] - 0s 2ms/step - loss: 3.4661 - accuracy: 0.4470\n",
            "Epoch 90/100\n",
            "32/32 [==============================] - 0s 1ms/step - loss: 3.4452 - accuracy: 0.4490\n",
            "Epoch 91/100\n",
            "32/32 [==============================] - 0s 1ms/step - loss: 3.4198 - accuracy: 0.4560\n",
            "Epoch 92/100\n",
            "32/32 [==============================] - 0s 1ms/step - loss: 3.4176 - accuracy: 0.4550\n",
            "Epoch 93/100\n",
            "32/32 [==============================] - 0s 1ms/step - loss: 3.4072 - accuracy: 0.4580\n",
            "Epoch 94/100\n",
            "32/32 [==============================] - 0s 1ms/step - loss: 3.4036 - accuracy: 0.4580\n",
            "Epoch 95/100\n",
            "32/32 [==============================] - 0s 1ms/step - loss: 3.3944 - accuracy: 0.4590\n",
            "Epoch 96/100\n",
            "32/32 [==============================] - 0s 1ms/step - loss: 3.3290 - accuracy: 0.4590\n",
            "Epoch 97/100\n",
            "32/32 [==============================] - 0s 1ms/step - loss: 3.2727 - accuracy: 0.4600\n",
            "Epoch 98/100\n",
            "32/32 [==============================] - 0s 1ms/step - loss: 3.2636 - accuracy: 0.4580\n",
            "Epoch 99/100\n",
            "32/32 [==============================] - 0s 1ms/step - loss: 3.2509 - accuracy: 0.4570\n",
            "Epoch 100/100\n",
            "32/32 [==============================] - 0s 1ms/step - loss: 3.2459 - accuracy: 0.4570\n"
          ]
        }
      ]
    },
    {
      "cell_type": "code",
      "metadata": {
        "colab": {
          "base_uri": "https://localhost:8080/",
          "height": 283
        },
        "id": "VgSl-0l-8ZLL",
        "outputId": "96a3724e-638d-4ab1-d766-ef16facf236c"
      },
      "source": [
        "plot_decision_boundary(model=model4,\n",
        "                       X=X,y=y)"
      ],
      "execution_count": null,
      "outputs": [
        {
          "output_type": "stream",
          "name": "stdout",
          "text": [
            "doing binary classification\n"
          ]
        },
        {
          "output_type": "display_data",
          "data": {
            "image/png": "[encoded data removed]",
            "text/plain": [
              "<Figure size 432x288 with 1 Axes>"
            ]
          },
          "metadata": {
            "needs_background": "light"
          }
        }
      ]
    },
    {
      "cell_type": "markdown",
      "metadata": {
        "id": "0HjZg4V7_TQI"
      },
      "source": [
        "### Model 5"
      ]
    },
    {
      "cell_type": "code",
      "metadata": {
        "colab": {
          "base_uri": "https://localhost:8080/"
        },
        "id": "Az2pSXfP9AnZ",
        "outputId": "3a775011-45f1-40fa-d498-41eceae8728d"
      },
      "source": [
        "tf.random.set_seed(42)\n",
        "\n",
        "model5 = tf.keras.Sequential([\n",
        "                              tf.keras.layers.Dense(6, activation=tf.keras.activations.relu),\n",
        "                              tf.keras.layers.Dense(6, activation=tf.keras.activations.relu),\n",
        "                              tf.keras.layers.Dense(1, activation=tf.keras.activations.sigmoid)\n",
        "])\n",
        "\n",
        "model5.compile(loss=tf.keras.losses.BinaryCrossentropy(),\n",
        "               optimizer=tf.keras.optimizers.Adam(),\n",
        "               metrics=['accuracy'])\n",
        "\n",
        "history = model5.fit(X,y,epochs=120)"
      ],
      "execution_count": null,
      "outputs": [
        {
          "output_type": "stream",
          "name": "stdout",
          "text": [
            "Epoch 1/120\n",
            "32/32 [==============================] - 0s 1ms/step - loss: 0.6912 - accuracy: 0.5020\n",
            "Epoch 2/120\n",
            "32/32 [==============================] - 0s 1ms/step - loss: 0.6898 - accuracy: 0.5070\n",
            "Epoch 3/120\n",
            "32/32 [==============================] - 0s 1ms/step - loss: 0.6883 - accuracy: 0.5140\n",
            "Epoch 4/120\n",
            "32/32 [==============================] - 0s 1ms/step - loss: 0.6872 - accuracy: 0.5130\n",
            "Epoch 5/120\n",
            "32/32 [==============================] - 0s 1ms/step - loss: 0.6860 - accuracy: 0.5140\n",
            "Epoch 6/120\n",
            "32/32 [==============================] - 0s 1ms/step - loss: 0.6848 - accuracy: 0.5180\n",
            "Epoch 7/120\n",
            "32/32 [==============================] - 0s 1ms/step - loss: 0.6831 - accuracy: 0.5270\n",
            "Epoch 8/120\n",
            "32/32 [==============================] - 0s 2ms/step - loss: 0.6819 - accuracy: 0.5320\n",
            "Epoch 9/120\n",
            "32/32 [==============================] - 0s 1ms/step - loss: 0.6804 - accuracy: 0.5340\n",
            "Epoch 10/120\n",
            "32/32 [==============================] - 0s 1ms/step - loss: 0.6791 - accuracy: 0.5420\n",
            "Epoch 11/120\n",
            "32/32 [==============================] - 0s 1ms/step - loss: 0.6775 - accuracy: 0.5470\n",
            "Epoch 12/120\n",
            "32/32 [==============================] - 0s 1ms/step - loss: 0.6762 - accuracy: 0.5540\n",
            "Epoch 13/120\n",
            "32/32 [==============================] - 0s 1ms/step - loss: 0.6750 - accuracy: 0.5630\n",
            "Epoch 14/120\n",
            "32/32 [==============================] - 0s 1ms/step - loss: 0.6736 - accuracy: 0.5650\n",
            "Epoch 15/120\n",
            "32/32 [==============================] - 0s 1ms/step - loss: 0.6722 - accuracy: 0.5710\n",
            "Epoch 16/120\n",
            "32/32 [==============================] - 0s 2ms/step - loss: 0.6707 - accuracy: 0.5770\n",
            "Epoch 17/120\n",
            "32/32 [==============================] - 0s 1ms/step - loss: 0.6694 - accuracy: 0.5810\n",
            "Epoch 18/120\n",
            "32/32 [==============================] - 0s 1ms/step - loss: 0.6677 - accuracy: 0.5780\n",
            "Epoch 19/120\n",
            "32/32 [==============================] - 0s 2ms/step - loss: 0.6663 - accuracy: 0.5750\n",
            "Epoch 20/120\n",
            "32/32 [==============================] - 0s 1ms/step - loss: 0.6645 - accuracy: 0.5890\n",
            "Epoch 21/120\n",
            "32/32 [==============================] - 0s 1ms/step - loss: 0.6631 - accuracy: 0.5890\n",
            "Epoch 22/120\n",
            "32/32 [==============================] - 0s 1ms/step - loss: 0.6612 - accuracy: 0.5900\n",
            "Epoch 23/120\n",
            "32/32 [==============================] - 0s 1ms/step - loss: 0.6594 - accuracy: 0.5940\n",
            "Epoch 24/120\n",
            "32/32 [==============================] - 0s 1ms/step - loss: 0.6576 - accuracy: 0.6000\n",
            "Epoch 25/120\n",
            "32/32 [==============================] - 0s 1ms/step - loss: 0.6562 - accuracy: 0.6050\n",
            "Epoch 26/120\n",
            "32/32 [==============================] - 0s 2ms/step - loss: 0.6538 - accuracy: 0.6020\n",
            "Epoch 27/120\n",
            "32/32 [==============================] - 0s 1ms/step - loss: 0.6522 - accuracy: 0.6020\n",
            "Epoch 28/120\n",
            "32/32 [==============================] - 0s 1ms/step - loss: 0.6492 - accuracy: 0.6050\n",
            "Epoch 29/120\n",
            "32/32 [==============================] - 0s 1ms/step - loss: 0.6474 - accuracy: 0.6120\n",
            "Epoch 30/120\n",
            "32/32 [==============================] - 0s 1ms/step - loss: 0.6447 - accuracy: 0.6150\n",
            "Epoch 31/120\n",
            "32/32 [==============================] - 0s 1ms/step - loss: 0.6422 - accuracy: 0.6230\n",
            "Epoch 32/120\n",
            "32/32 [==============================] - 0s 1ms/step - loss: 0.6399 - accuracy: 0.6360\n",
            "Epoch 33/120\n",
            "32/32 [==============================] - 0s 1ms/step - loss: 0.6366 - accuracy: 0.6390\n",
            "Epoch 34/120\n",
            "32/32 [==============================] - 0s 1ms/step - loss: 0.6338 - accuracy: 0.6440\n",
            "Epoch 35/120\n",
            "32/32 [==============================] - 0s 1ms/step - loss: 0.6307 - accuracy: 0.6530\n",
            "Epoch 36/120\n",
            "32/32 [==============================] - 0s 1ms/step - loss: 0.6267 - accuracy: 0.6710\n",
            "Epoch 37/120\n",
            "32/32 [==============================] - 0s 1ms/step - loss: 0.6232 - accuracy: 0.6910\n",
            "Epoch 38/120\n",
            "32/32 [==============================] - 0s 1ms/step - loss: 0.6199 - accuracy: 0.7040\n",
            "Epoch 39/120\n",
            "32/32 [==============================] - 0s 1ms/step - loss: 0.6150 - accuracy: 0.7220\n",
            "Epoch 40/120\n",
            "32/32 [==============================] - 0s 2ms/step - loss: 0.6105 - accuracy: 0.7300\n",
            "Epoch 41/120\n",
            "32/32 [==============================] - 0s 1ms/step - loss: 0.6062 - accuracy: 0.7610\n",
            "Epoch 42/120\n",
            "32/32 [==============================] - 0s 1ms/step - loss: 0.6008 - accuracy: 0.7740\n",
            "Epoch 43/120\n",
            "32/32 [==============================] - 0s 1ms/step - loss: 0.5947 - accuracy: 0.7820\n",
            "Epoch 44/120\n",
            "32/32 [==============================] - 0s 1ms/step - loss: 0.5884 - accuracy: 0.7830\n",
            "Epoch 45/120\n",
            "32/32 [==============================] - 0s 1ms/step - loss: 0.5803 - accuracy: 0.8500\n",
            "Epoch 46/120\n",
            "32/32 [==============================] - 0s 1ms/step - loss: 0.5722 - accuracy: 0.8800\n",
            "Epoch 47/120\n",
            "32/32 [==============================] - 0s 1ms/step - loss: 0.5655 - accuracy: 0.8970\n",
            "Epoch 48/120\n",
            "32/32 [==============================] - 0s 1ms/step - loss: 0.5570 - accuracy: 0.8910\n",
            "Epoch 49/120\n",
            "32/32 [==============================] - 0s 1ms/step - loss: 0.5483 - accuracy: 0.9240\n",
            "Epoch 50/120\n",
            "32/32 [==============================] - 0s 1ms/step - loss: 0.5397 - accuracy: 0.9410\n",
            "Epoch 51/120\n",
            "32/32 [==============================] - 0s 1ms/step - loss: 0.5313 - accuracy: 0.9420\n",
            "Epoch 52/120\n",
            "32/32 [==============================] - 0s 1ms/step - loss: 0.5224 - accuracy: 0.9600\n",
            "Epoch 53/120\n",
            "32/32 [==============================] - 0s 1ms/step - loss: 0.5133 - accuracy: 0.9550\n",
            "Epoch 54/120\n",
            "32/32 [==============================] - 0s 1ms/step - loss: 0.5032 - accuracy: 0.9770\n",
            "Epoch 55/120\n",
            "32/32 [==============================] - 0s 1ms/step - loss: 0.4939 - accuracy: 0.9730\n",
            "Epoch 56/120\n",
            "32/32 [==============================] - 0s 2ms/step - loss: 0.4839 - accuracy: 0.9630\n",
            "Epoch 57/120\n",
            "32/32 [==============================] - 0s 1ms/step - loss: 0.4733 - accuracy: 0.9740\n",
            "Epoch 58/120\n",
            "32/32 [==============================] - 0s 1ms/step - loss: 0.4646 - accuracy: 0.9800\n",
            "Epoch 59/120\n",
            "32/32 [==============================] - 0s 1ms/step - loss: 0.4551 - accuracy: 0.9740\n",
            "Epoch 60/120\n",
            "32/32 [==============================] - 0s 2ms/step - loss: 0.4443 - accuracy: 0.9870\n",
            "Epoch 61/120\n",
            "32/32 [==============================] - 0s 2ms/step - loss: 0.4350 - accuracy: 0.9670\n",
            "Epoch 62/120\n",
            "32/32 [==============================] - 0s 1ms/step - loss: 0.4240 - accuracy: 0.9870\n",
            "Epoch 63/120\n",
            "32/32 [==============================] - 0s 1ms/step - loss: 0.4139 - accuracy: 0.9840\n",
            "Epoch 64/120\n",
            "32/32 [==============================] - 0s 1ms/step - loss: 0.4045 - accuracy: 0.9930\n",
            "Epoch 65/120\n",
            "32/32 [==============================] - 0s 1ms/step - loss: 0.3948 - accuracy: 0.9890\n",
            "Epoch 66/120\n",
            "32/32 [==============================] - 0s 1ms/step - loss: 0.3843 - accuracy: 0.9880\n",
            "Epoch 67/120\n",
            "32/32 [==============================] - 0s 1ms/step - loss: 0.3745 - accuracy: 0.9880\n",
            "Epoch 68/120\n",
            "32/32 [==============================] - 0s 1ms/step - loss: 0.3635 - accuracy: 0.9910\n",
            "Epoch 69/120\n",
            "32/32 [==============================] - 0s 1ms/step - loss: 0.3529 - accuracy: 0.9930\n",
            "Epoch 70/120\n",
            "32/32 [==============================] - 0s 2ms/step - loss: 0.3426 - accuracy: 0.9920\n",
            "Epoch 71/120\n",
            "32/32 [==============================] - 0s 1ms/step - loss: 0.3321 - accuracy: 0.9910\n",
            "Epoch 72/120\n",
            "32/32 [==============================] - 0s 2ms/step - loss: 0.3228 - accuracy: 0.9920\n",
            "Epoch 73/120\n",
            "32/32 [==============================] - 0s 1ms/step - loss: 0.3134 - accuracy: 0.9900\n",
            "Epoch 74/120\n",
            "32/32 [==============================] - 0s 1ms/step - loss: 0.3043 - accuracy: 0.9930\n",
            "Epoch 75/120\n",
            "32/32 [==============================] - 0s 1ms/step - loss: 0.2960 - accuracy: 0.9900\n",
            "Epoch 76/120\n",
            "32/32 [==============================] - 0s 1ms/step - loss: 0.2863 - accuracy: 0.9910\n",
            "Epoch 77/120\n",
            "32/32 [==============================] - 0s 1ms/step - loss: 0.2778 - accuracy: 0.9910\n",
            "Epoch 78/120\n",
            "32/32 [==============================] - 0s 1ms/step - loss: 0.2678 - accuracy: 0.9880\n",
            "Epoch 79/120\n",
            "32/32 [==============================] - 0s 2ms/step - loss: 0.2593 - accuracy: 0.9930\n",
            "Epoch 80/120\n",
            "32/32 [==============================] - 0s 1ms/step - loss: 0.2441 - accuracy: 0.9960\n",
            "Epoch 81/120\n",
            "32/32 [==============================] - 0s 1ms/step - loss: 0.2347 - accuracy: 0.9950\n",
            "Epoch 82/120\n",
            "32/32 [==============================] - 0s 2ms/step - loss: 0.2262 - accuracy: 0.9960\n",
            "Epoch 83/120\n",
            "32/32 [==============================] - 0s 1ms/step - loss: 0.2183 - accuracy: 0.9940\n",
            "Epoch 84/120\n",
            "32/32 [==============================] - 0s 1ms/step - loss: 0.2126 - accuracy: 0.9950\n",
            "Epoch 85/120\n",
            "32/32 [==============================] - 0s 1ms/step - loss: 0.2060 - accuracy: 0.9940\n",
            "Epoch 86/120\n",
            "32/32 [==============================] - 0s 1ms/step - loss: 0.2007 - accuracy: 0.9950\n",
            "Epoch 87/120\n",
            "32/32 [==============================] - 0s 1ms/step - loss: 0.1941 - accuracy: 0.9940\n",
            "Epoch 88/120\n",
            "32/32 [==============================] - 0s 1ms/step - loss: 0.1889 - accuracy: 0.9960\n",
            "Epoch 89/120\n",
            "32/32 [==============================] - 0s 1ms/step - loss: 0.1840 - accuracy: 0.9960\n",
            "Epoch 90/120\n",
            "32/32 [==============================] - 0s 1ms/step - loss: 0.1792 - accuracy: 0.9950\n",
            "Epoch 91/120\n",
            "32/32 [==============================] - 0s 1ms/step - loss: 0.1749 - accuracy: 0.9970\n",
            "Epoch 92/120\n",
            "32/32 [==============================] - 0s 1ms/step - loss: 0.1694 - accuracy: 0.9960\n",
            "Epoch 93/120\n",
            "32/32 [==============================] - 0s 2ms/step - loss: 0.1653 - accuracy: 0.9930\n",
            "Epoch 94/120\n",
            "32/32 [==============================] - 0s 1ms/step - loss: 0.1621 - accuracy: 0.9960\n",
            "Epoch 95/120\n",
            "32/32 [==============================] - 0s 2ms/step - loss: 0.1565 - accuracy: 0.9960\n",
            "Epoch 96/120\n",
            "32/32 [==============================] - 0s 1ms/step - loss: 0.1535 - accuracy: 0.9980\n",
            "Epoch 97/120\n",
            "32/32 [==============================] - 0s 1ms/step - loss: 0.1493 - accuracy: 0.9960\n",
            "Epoch 98/120\n",
            "32/32 [==============================] - 0s 1ms/step - loss: 0.1461 - accuracy: 0.9950\n",
            "Epoch 99/120\n",
            "32/32 [==============================] - 0s 2ms/step - loss: 0.1423 - accuracy: 0.9980\n",
            "Epoch 100/120\n",
            "32/32 [==============================] - 0s 1ms/step - loss: 0.1388 - accuracy: 0.9970\n",
            "Epoch 101/120\n",
            "32/32 [==============================] - 0s 1ms/step - loss: 0.1358 - accuracy: 0.9970\n",
            "Epoch 102/120\n",
            "32/32 [==============================] - 0s 2ms/step - loss: 0.1327 - accuracy: 0.9980\n",
            "Epoch 103/120\n",
            "32/32 [==============================] - 0s 1ms/step - loss: 0.1294 - accuracy: 0.9960\n",
            "Epoch 104/120\n",
            "32/32 [==============================] - 0s 1ms/step - loss: 0.1266 - accuracy: 0.9960\n",
            "Epoch 105/120\n",
            "32/32 [==============================] - 0s 1ms/step - loss: 0.1237 - accuracy: 0.9990\n",
            "Epoch 106/120\n",
            "32/32 [==============================] - 0s 1ms/step - loss: 0.1209 - accuracy: 0.9970\n",
            "Epoch 107/120\n",
            "32/32 [==============================] - 0s 1ms/step - loss: 0.1183 - accuracy: 0.9970\n",
            "Epoch 108/120\n",
            "32/32 [==============================] - 0s 1ms/step - loss: 0.1165 - accuracy: 0.9990\n",
            "Epoch 109/120\n",
            "32/32 [==============================] - 0s 1ms/step - loss: 0.1134 - accuracy: 0.9960\n",
            "Epoch 110/120\n",
            "32/32 [==============================] - 0s 1ms/step - loss: 0.1109 - accuracy: 0.9970\n",
            "Epoch 111/120\n",
            "32/32 [==============================] - 0s 1ms/step - loss: 0.1085 - accuracy: 0.9980\n",
            "Epoch 112/120\n",
            "32/32 [==============================] - 0s 1ms/step - loss: 0.1066 - accuracy: 0.9970\n",
            "Epoch 113/120\n",
            "32/32 [==============================] - 0s 2ms/step - loss: 0.1038 - accuracy: 0.9970\n",
            "Epoch 114/120\n",
            "32/32 [==============================] - 0s 2ms/step - loss: 0.1019 - accuracy: 0.9980\n",
            "Epoch 115/120\n",
            "32/32 [==============================] - 0s 1ms/step - loss: 0.0998 - accuracy: 0.9960\n",
            "Epoch 116/120\n",
            "32/32 [==============================] - 0s 1ms/step - loss: 0.0973 - accuracy: 0.9980\n",
            "Epoch 117/120\n",
            "32/32 [==============================] - 0s 1ms/step - loss: 0.0956 - accuracy: 0.9990\n",
            "Epoch 118/120\n",
            "32/32 [==============================] - 0s 1ms/step - loss: 0.0934 - accuracy: 0.9980\n",
            "Epoch 119/120\n",
            "32/32 [==============================] - 0s 2ms/step - loss: 0.0917 - accuracy: 0.9990\n",
            "Epoch 120/120\n",
            "32/32 [==============================] - 0s 1ms/step - loss: 0.0897 - accuracy: 0.9990\n"
          ]
        }
      ]
    },
    {
      "cell_type": "code",
      "metadata": {
        "colab": {
          "base_uri": "https://localhost:8080/",
          "height": 283
        },
        "id": "QwowMhQOAg-L",
        "outputId": "e7125ce6-aa6b-4962-b541-80bb0ead61e9"
      },
      "source": [
        "plot_decision_boundary(model=model5,X=X,y=y)"
      ],
      "execution_count": null,
      "outputs": [
        {
          "output_type": "stream",
          "name": "stdout",
          "text": [
            "doing binary classification\n"
          ]
        },
        {
          "output_type": "display_data",
          "data": {
            "image/png": "[encoded data removed]",
            "text/plain": [
              "<Figure size 432x288 with 1 Axes>"
            ]
          },
          "metadata": {
            "needs_background": "light"
          }
        }
      ]
    },
    {
      "cell_type": "markdown",
      "metadata": {
        "id": "F_1wo48rB79g"
      },
      "source": [
        "### plot the training loss curve\n"
      ]
    },
    {
      "cell_type": "code",
      "metadata": {
        "colab": {
          "base_uri": "https://localhost:8080/",
          "height": 283
        },
        "id": "N1F9HXfPF12P",
        "outputId": "9a44fd4b-a115-4fa3-bdc7-83e82809be13"
      },
      "source": [
        "pd.DataFrame(history.history).plot()"
      ],
      "execution_count": null,
      "outputs": [
        {
          "output_type": "execute_result",
          "data": {
            "text/plain": [
              "<matplotlib.axes._subplots.AxesSubplot at 0x7fe81d928550>"
            ]
          },
          "metadata": {},
          "execution_count": 39
        },
        {
          "output_type": "display_data",
          "data": {
            "image/png": "[encoded data removed]",
            "text/plain": [
              "<Figure size 432x288 with 1 Axes>"
            ]
          },
          "metadata": {
            "needs_background": "light"
          }
        }
      ]
    },
    {
      "cell_type": "markdown",
      "metadata": {
        "id": "i_qXhHVFGIbv"
      },
      "source": [
        "## Finding the best learning rate\n",
        "\n",
        "* A learning rate **Callback**.\n",
        "* A modified loss curve plot."
      ]
    },
    {
      "cell_type": "code",
      "metadata": {
        "colab": {
          "base_uri": "https://localhost:8080/"
        },
        "id": "SQlUcdJYHeGX",
        "outputId": "65ca2ecb-e15f-4d41-9ac8-58f37d98d3df"
      },
      "source": [
        "tf.random.set_seed(42)\n",
        "\n",
        "model6 = tf.keras.Sequential([\n",
        "                              tf.keras.layers.Dense(4, activation='relu'),\n",
        "                              tf.keras.layers.Dense(4, activation='relu'),\n",
        "                              tf.keras.layers.Dense(1, activation='sigmoid')\n",
        "])\n",
        "\n",
        "model6.compile(loss=tf.keras.losses.BinaryCrossentropy(),\n",
        "               optimizer='Adam',\n",
        "               metrics=['accuracy'])\n",
        "\n",
        "# create a learning rate call back\n",
        "lr_schedular = tf.keras.callbacks.LearningRateScheduler(lambda epoch: 1e-4 * 10**(epoch/20))\n",
        "\n",
        "# Fit the Model\n",
        "history6 = model6.fit(X,y,epochs=100, callbacks=[lr_schedular])"
      ],
      "execution_count": null,
      "outputs": [
        {
          "output_type": "stream",
          "name": "stdout",
          "text": [
            "Epoch 1/100\n",
            "32/32 [==============================] - 0s 1ms/step - loss: 0.6917 - accuracy: 0.5000\n",
            "Epoch 2/100\n",
            "32/32 [==============================] - 0s 1ms/step - loss: 0.6910 - accuracy: 0.4990\n",
            "Epoch 3/100\n",
            "32/32 [==============================] - 0s 1ms/step - loss: 0.6902 - accuracy: 0.4990\n",
            "Epoch 4/100\n",
            "32/32 [==============================] - 0s 1ms/step - loss: 0.6894 - accuracy: 0.5060\n",
            "Epoch 5/100\n",
            "32/32 [==============================] - 0s 1ms/step - loss: 0.6885 - accuracy: 0.5120\n",
            "Epoch 6/100\n",
            "32/32 [==============================] - 0s 1ms/step - loss: 0.6876 - accuracy: 0.5050\n",
            "Epoch 7/100\n",
            "32/32 [==============================] - 0s 1ms/step - loss: 0.6867 - accuracy: 0.5120\n",
            "Epoch 8/100\n",
            "32/32 [==============================] - 0s 1ms/step - loss: 0.6858 - accuracy: 0.5120\n",
            "Epoch 9/100\n",
            "32/32 [==============================] - 0s 2ms/step - loss: 0.6850 - accuracy: 0.5130\n",
            "Epoch 10/100\n",
            "32/32 [==============================] - 0s 1ms/step - loss: 0.6841 - accuracy: 0.5270\n",
            "Epoch 11/100\n",
            "32/32 [==============================] - 0s 2ms/step - loss: 0.6833 - accuracy: 0.5260\n",
            "Epoch 12/100\n",
            "32/32 [==============================] - 0s 1ms/step - loss: 0.6826 - accuracy: 0.5210\n",
            "Epoch 13/100\n",
            "32/32 [==============================] - 0s 1ms/step - loss: 0.6819 - accuracy: 0.5220\n",
            "Epoch 14/100\n",
            "32/32 [==============================] - 0s 1ms/step - loss: 0.6813 - accuracy: 0.5250\n",
            "Epoch 15/100\n",
            "32/32 [==============================] - 0s 1ms/step - loss: 0.6807 - accuracy: 0.5300\n",
            "Epoch 16/100\n",
            "32/32 [==============================] - 0s 1ms/step - loss: 0.6802 - accuracy: 0.5320\n",
            "Epoch 17/100\n",
            "32/32 [==============================] - 0s 1ms/step - loss: 0.6798 - accuracy: 0.5300\n",
            "Epoch 18/100\n",
            "32/32 [==============================] - 0s 1ms/step - loss: 0.6793 - accuracy: 0.5340\n",
            "Epoch 19/100\n",
            "32/32 [==============================] - 0s 2ms/step - loss: 0.6789 - accuracy: 0.5460\n",
            "Epoch 20/100\n",
            "32/32 [==============================] - 0s 1ms/step - loss: 0.6783 - accuracy: 0.5460\n",
            "Epoch 21/100\n",
            "32/32 [==============================] - 0s 1ms/step - loss: 0.6778 - accuracy: 0.5480\n",
            "Epoch 22/100\n",
            "32/32 [==============================] - 0s 1ms/step - loss: 0.6770 - accuracy: 0.5470\n",
            "Epoch 23/100\n",
            "32/32 [==============================] - 0s 1ms/step - loss: 0.6764 - accuracy: 0.5600\n",
            "Epoch 24/100\n",
            "32/32 [==============================] - 0s 2ms/step - loss: 0.6760 - accuracy: 0.5490\n",
            "Epoch 25/100\n",
            "32/32 [==============================] - 0s 1ms/step - loss: 0.6751 - accuracy: 0.5540\n",
            "Epoch 26/100\n",
            "32/32 [==============================] - 0s 1ms/step - loss: 0.6740 - accuracy: 0.5520\n",
            "Epoch 27/100\n",
            "32/32 [==============================] - 0s 1ms/step - loss: 0.6732 - accuracy: 0.5650\n",
            "Epoch 28/100\n",
            "32/32 [==============================] - 0s 1ms/step - loss: 0.6710 - accuracy: 0.5550\n",
            "Epoch 29/100\n",
            "32/32 [==============================] - 0s 1ms/step - loss: 0.6703 - accuracy: 0.5540\n",
            "Epoch 30/100\n",
            "32/32 [==============================] - 0s 1ms/step - loss: 0.6686 - accuracy: 0.5650\n",
            "Epoch 31/100\n",
            "32/32 [==============================] - 0s 1ms/step - loss: 0.6666 - accuracy: 0.5750\n",
            "Epoch 32/100\n",
            "32/32 [==============================] - 0s 1ms/step - loss: 0.6643 - accuracy: 0.5750\n",
            "Epoch 33/100\n",
            "32/32 [==============================] - 0s 1ms/step - loss: 0.6604 - accuracy: 0.5750\n",
            "Epoch 34/100\n",
            "32/32 [==============================] - 0s 1ms/step - loss: 0.6587 - accuracy: 0.5830\n",
            "Epoch 35/100\n",
            "32/32 [==============================] - 0s 1ms/step - loss: 0.6539 - accuracy: 0.5830\n",
            "Epoch 36/100\n",
            "32/32 [==============================] - 0s 1ms/step - loss: 0.6452 - accuracy: 0.5990\n",
            "Epoch 37/100\n",
            "32/32 [==============================] - 0s 1ms/step - loss: 0.6315 - accuracy: 0.6650\n",
            "Epoch 38/100\n",
            "32/32 [==============================] - 0s 1ms/step - loss: 0.5994 - accuracy: 0.7100\n",
            "Epoch 39/100\n",
            "32/32 [==============================] - 0s 1ms/step - loss: 0.5360 - accuracy: 0.8650\n",
            "Epoch 40/100\n",
            "32/32 [==============================] - 0s 1ms/step - loss: 0.4359 - accuracy: 0.9360\n",
            "Epoch 41/100\n",
            "32/32 [==============================] - 0s 2ms/step - loss: 0.3251 - accuracy: 0.9600\n",
            "Epoch 42/100\n",
            "32/32 [==============================] - 0s 1ms/step - loss: 0.2118 - accuracy: 0.9930\n",
            "Epoch 43/100\n",
            "32/32 [==============================] - 0s 1ms/step - loss: 0.1413 - accuracy: 0.9940\n",
            "Epoch 44/100\n",
            "32/32 [==============================] - 0s 1ms/step - loss: 0.1035 - accuracy: 0.9900\n",
            "Epoch 45/100\n",
            "32/32 [==============================] - 0s 1ms/step - loss: 0.0709 - accuracy: 0.9940\n",
            "Epoch 46/100\n",
            "32/32 [==============================] - 0s 1ms/step - loss: 0.0610 - accuracy: 0.9930\n",
            "Epoch 47/100\n",
            "32/32 [==============================] - 0s 1ms/step - loss: 0.0640 - accuracy: 0.9840\n",
            "Epoch 48/100\n",
            "32/32 [==============================] - 0s 1ms/step - loss: 0.0554 - accuracy: 0.9880\n",
            "Epoch 49/100\n",
            "32/32 [==============================] - 0s 1ms/step - loss: 0.0435 - accuracy: 0.9920\n",
            "Epoch 50/100\n",
            "32/32 [==============================] - 0s 1ms/step - loss: 0.0378 - accuracy: 0.9910\n",
            "Epoch 51/100\n",
            "32/32 [==============================] - 0s 1ms/step - loss: 0.0398 - accuracy: 0.9890\n",
            "Epoch 52/100\n",
            "32/32 [==============================] - 0s 1ms/step - loss: 0.0471 - accuracy: 0.9830\n",
            "Epoch 53/100\n",
            "32/32 [==============================] - 0s 1ms/step - loss: 0.0347 - accuracy: 0.9880\n",
            "Epoch 54/100\n",
            "32/32 [==============================] - 0s 1ms/step - loss: 0.1359 - accuracy: 0.9440\n",
            "Epoch 55/100\n",
            "32/32 [==============================] - 0s 1ms/step - loss: 0.2609 - accuracy: 0.9130\n",
            "Epoch 56/100\n",
            "32/32 [==============================] - 0s 1ms/step - loss: 0.0711 - accuracy: 0.9720\n",
            "Epoch 57/100\n",
            "32/32 [==============================] - 0s 1ms/step - loss: 0.0413 - accuracy: 0.9840\n",
            "Epoch 58/100\n",
            "32/32 [==============================] - 0s 1ms/step - loss: 0.0716 - accuracy: 0.9650\n",
            "Epoch 59/100\n",
            "32/32 [==============================] - 0s 1ms/step - loss: 0.1180 - accuracy: 0.9580\n",
            "Epoch 60/100\n",
            "32/32 [==============================] - 0s 2ms/step - loss: 0.2724 - accuracy: 0.9020\n",
            "Epoch 61/100\n",
            "32/32 [==============================] - 0s 1ms/step - loss: 0.1644 - accuracy: 0.9330\n",
            "Epoch 62/100\n",
            "32/32 [==============================] - 0s 1ms/step - loss: 0.1243 - accuracy: 0.9470\n",
            "Epoch 63/100\n",
            "32/32 [==============================] - 0s 1ms/step - loss: 0.0728 - accuracy: 0.9660\n",
            "Epoch 64/100\n",
            "32/32 [==============================] - 0s 2ms/step - loss: 0.1495 - accuracy: 0.9430\n",
            "Epoch 65/100\n",
            "32/32 [==============================] - 0s 1ms/step - loss: 0.1029 - accuracy: 0.9650\n",
            "Epoch 66/100\n",
            "32/32 [==============================] - 0s 1ms/step - loss: 0.0879 - accuracy: 0.9610\n",
            "Epoch 67/100\n",
            "32/32 [==============================] - 0s 1ms/step - loss: 0.3334 - accuracy: 0.8630\n",
            "Epoch 68/100\n",
            "32/32 [==============================] - 0s 1ms/step - loss: 0.1080 - accuracy: 0.9660\n",
            "Epoch 69/100\n",
            "32/32 [==============================] - 0s 1ms/step - loss: 0.0548 - accuracy: 0.9830\n",
            "Epoch 70/100\n",
            "32/32 [==============================] - 0s 1ms/step - loss: 0.2661 - accuracy: 0.9310\n",
            "Epoch 71/100\n",
            "32/32 [==============================] - 0s 1ms/step - loss: 0.7370 - accuracy: 0.5880\n",
            "Epoch 72/100\n",
            "32/32 [==============================] - 0s 1ms/step - loss: 0.6289 - accuracy: 0.5880\n",
            "Epoch 73/100\n",
            "32/32 [==============================] - 0s 1ms/step - loss: 0.4925 - accuracy: 0.7420\n",
            "Epoch 74/100\n",
            "32/32 [==============================] - 0s 2ms/step - loss: 0.2173 - accuracy: 0.9020\n",
            "Epoch 75/100\n",
            "32/32 [==============================] - 0s 1ms/step - loss: 0.3644 - accuracy: 0.8420\n",
            "Epoch 76/100\n",
            "32/32 [==============================] - 0s 1ms/step - loss: 0.1788 - accuracy: 0.9250\n",
            "Epoch 77/100\n",
            "32/32 [==============================] - 0s 1ms/step - loss: 0.1786 - accuracy: 0.9340\n",
            "Epoch 78/100\n",
            "32/32 [==============================] - 0s 1ms/step - loss: 0.0857 - accuracy: 0.9690\n",
            "Epoch 79/100\n",
            "32/32 [==============================] - 0s 1ms/step - loss: 0.2916 - accuracy: 0.8960\n",
            "Epoch 80/100\n",
            "32/32 [==============================] - 0s 2ms/step - loss: 0.5121 - accuracy: 0.7470\n",
            "Epoch 81/100\n",
            "32/32 [==============================] - 0s 1ms/step - loss: 0.5104 - accuracy: 0.7110\n",
            "Epoch 82/100\n",
            "32/32 [==============================] - 0s 1ms/step - loss: 0.7089 - accuracy: 0.6130\n",
            "Epoch 83/100\n",
            "32/32 [==============================] - 0s 1ms/step - loss: 0.6926 - accuracy: 0.5160\n",
            "Epoch 84/100\n",
            "32/32 [==============================] - 0s 1ms/step - loss: 0.8258 - accuracy: 0.4900\n",
            "Epoch 85/100\n",
            "32/32 [==============================] - 0s 1ms/step - loss: 0.7183 - accuracy: 0.4860\n",
            "Epoch 86/100\n",
            "32/32 [==============================] - 0s 1ms/step - loss: 0.7218 - accuracy: 0.4920\n",
            "Epoch 87/100\n",
            "32/32 [==============================] - 0s 1ms/step - loss: 0.7211 - accuracy: 0.4980\n",
            "Epoch 88/100\n",
            "32/32 [==============================] - 0s 1ms/step - loss: 0.7133 - accuracy: 0.4860\n",
            "Epoch 89/100\n",
            "32/32 [==============================] - 0s 1ms/step - loss: 0.7576 - accuracy: 0.4700\n",
            "Epoch 90/100\n",
            "32/32 [==============================] - 0s 2ms/step - loss: 0.8369 - accuracy: 0.5080\n",
            "Epoch 91/100\n",
            "32/32 [==============================] - 0s 1ms/step - loss: 0.7790 - accuracy: 0.5140\n",
            "Epoch 92/100\n",
            "32/32 [==============================] - 0s 1ms/step - loss: 0.8035 - accuracy: 0.4980\n",
            "Epoch 93/100\n",
            "32/32 [==============================] - 0s 1ms/step - loss: 0.7431 - accuracy: 0.5300\n",
            "Epoch 94/100\n",
            "32/32 [==============================] - 0s 1ms/step - loss: 0.7530 - accuracy: 0.4940\n",
            "Epoch 95/100\n",
            "32/32 [==============================] - 0s 1ms/step - loss: 0.7376 - accuracy: 0.4900\n",
            "Epoch 96/100\n",
            "32/32 [==============================] - 0s 1ms/step - loss: 0.7862 - accuracy: 0.4680\n",
            "Epoch 97/100\n",
            "32/32 [==============================] - 0s 1ms/step - loss: 0.7737 - accuracy: 0.5040\n",
            "Epoch 98/100\n",
            "32/32 [==============================] - 0s 1ms/step - loss: 0.9316 - accuracy: 0.4900\n",
            "Epoch 99/100\n",
            "32/32 [==============================] - 0s 1ms/step - loss: 0.7654 - accuracy: 0.5080\n",
            "Epoch 100/100\n",
            "32/32 [==============================] - 0s 2ms/step - loss: 0.9033 - accuracy: 0.5100\n"
          ]
        }
      ]
    },
    {
      "cell_type": "code",
      "metadata": {
        "colab": {
          "base_uri": "https://localhost:8080/",
          "height": 297
        },
        "id": "rMTMijl-Jztw",
        "outputId": "784f0a3d-38d4-479a-e57a-0dfe17c57204"
      },
      "source": [
        "pd.DataFrame(history6.history).plot(xlabel='epochs')"
      ],
      "execution_count": null,
      "outputs": [
        {
          "output_type": "execute_result",
          "data": {
            "text/plain": [
              "<matplotlib.axes._subplots.AxesSubplot at 0x7fe81e64cb50>"
            ]
          },
          "metadata": {},
          "execution_count": 42
        },
        {
          "output_type": "display_data",
          "data": {
            "image/png": "[encoded data removed]",
            "text/plain": [
              "<Figure size 432x288 with 1 Axes>"
            ]
          },
          "metadata": {
            "needs_background": "light"
          }
        }
      ]
    },
    {
      "cell_type": "code",
      "metadata": {
        "colab": {
          "base_uri": "https://localhost:8080/",
          "height": 426
        },
        "id": "xEwZN9-uKYHH",
        "outputId": "bc1e2ca4-dbe4-4a7b-b9c2-7c5085aeffbc"
      },
      "source": [
        "# plot the learning rate versus the loss\n",
        "lrs = 1e-4 * 4 * (10 ** (tf.range(100)/20))\n",
        "plt.figure(figsize=(9,6))\n",
        "plt.semilogx(lrs, history6.history['loss'])\n",
        "plt.xlabel('learning rate')\n",
        "plt.ylabel('loss')\n",
        "plt.title('loss vs learning rate')"
      ],
      "execution_count": null,
      "outputs": [
        {
          "output_type": "execute_result",
          "data": {
            "text/plain": [
              "Text(0.5, 1.0, 'loss vs learning rate')"
            ]
          },
          "metadata": {},
          "execution_count": 45
        },
        {
          "output_type": "display_data",
          "data": {
            "image/png": "[encoded data removed]",
            "text/plain": [
              "<Figure size 648x432 with 1 Axes>"
            ]
          },
          "metadata": {
            "needs_background": "light"
          }
        }
      ]
    },
    {
      "cell_type": "code",
      "metadata": {
        "colab": {
          "base_uri": "https://localhost:8080/"
        },
        "id": "54uBSXZ5LseP",
        "outputId": "ef7e2c8b-0228-45ba-d23f-4fb8006890d3"
      },
      "source": [
        "tf.random.set_seed(42)\n",
        "\n",
        "model7 = tf.keras.Sequential([\n",
        "                              tf.keras.layers.Dense(4, activation='relu'),\n",
        "                              tf.keras.layers.Dense(4, activation='relu'),\n",
        "                              tf.keras.layers.Dense(1, activation='sigmoid')\n",
        "])\n",
        "\n",
        "model7.compile(loss=tf.keras.losses.BinaryCrossentropy(),\n",
        "               optimizer=tf.keras.optimizers.Adam(lr=0.007),\n",
        "               metrics=['accuracy'])\n",
        "\n",
        "history7 = model7.fit(X , y, epochs=20)"
      ],
      "execution_count": null,
      "outputs": [
        {
          "output_type": "stream",
          "name": "stderr",
          "text": [
            "/usr/local/lib/python3.7/dist-packages/keras/optimizer_v2/optimizer_v2.py:356: UserWarning: The `lr` argument is deprecated, use `learning_rate` instead.\n",
            "  \"The `lr` argument is deprecated, use `learning_rate` instead.\")\n"
          ]
        },
        {
          "output_type": "stream",
          "name": "stdout",
          "text": [
            "Epoch 1/20\n",
            "32/32 [==============================] - 0s 1ms/step - loss: 0.6842 - accuracy: 0.5370\n",
            "Epoch 2/20\n",
            "32/32 [==============================] - 0s 1ms/step - loss: 0.6779 - accuracy: 0.5610\n",
            "Epoch 3/20\n",
            "32/32 [==============================] - 0s 1ms/step - loss: 0.6744 - accuracy: 0.5480\n",
            "Epoch 4/20\n",
            "32/32 [==============================] - 0s 1ms/step - loss: 0.6691 - accuracy: 0.5770\n",
            "Epoch 5/20\n",
            "32/32 [==============================] - 0s 1ms/step - loss: 0.6650 - accuracy: 0.5620\n",
            "Epoch 6/20\n",
            "32/32 [==============================] - 0s 1ms/step - loss: 0.6606 - accuracy: 0.5700\n",
            "Epoch 7/20\n",
            "32/32 [==============================] - 0s 1ms/step - loss: 0.6550 - accuracy: 0.6100\n",
            "Epoch 8/20\n",
            "32/32 [==============================] - 0s 1ms/step - loss: 0.6485 - accuracy: 0.5830\n",
            "Epoch 9/20\n",
            "32/32 [==============================] - 0s 1ms/step - loss: 0.6395 - accuracy: 0.5940\n",
            "Epoch 10/20\n",
            "32/32 [==============================] - 0s 1ms/step - loss: 0.6228 - accuracy: 0.6940\n",
            "Epoch 11/20\n",
            "32/32 [==============================] - 0s 1ms/step - loss: 0.6016 - accuracy: 0.6900\n",
            "Epoch 12/20\n",
            "32/32 [==============================] - 0s 1ms/step - loss: 0.5810 - accuracy: 0.7190\n",
            "Epoch 13/20\n",
            "32/32 [==============================] - 0s 1ms/step - loss: 0.5329 - accuracy: 0.7420\n",
            "Epoch 14/20\n",
            "32/32 [==============================] - 0s 1ms/step - loss: 0.4720 - accuracy: 0.8420\n",
            "Epoch 15/20\n",
            "32/32 [==============================] - 0s 1ms/step - loss: 0.3869 - accuracy: 0.9480\n",
            "Epoch 16/20\n",
            "32/32 [==============================] - 0s 2ms/step - loss: 0.3240 - accuracy: 0.9700\n",
            "Epoch 17/20\n",
            "32/32 [==============================] - 0s 1ms/step - loss: 0.2728 - accuracy: 0.9790\n",
            "Epoch 18/20\n",
            "32/32 [==============================] - 0s 1ms/step - loss: 0.2367 - accuracy: 0.9870\n",
            "Epoch 19/20\n",
            "32/32 [==============================] - 0s 1ms/step - loss: 0.1983 - accuracy: 0.9850\n",
            "Epoch 20/20\n",
            "32/32 [==============================] - 0s 1ms/step - loss: 0.1744 - accuracy: 0.9850\n"
          ]
        }
      ]
    },
    {
      "cell_type": "code",
      "metadata": {
        "colab": {
          "base_uri": "https://localhost:8080/",
          "height": 283
        },
        "id": "ZzfewmH9N-CP",
        "outputId": "58a39aa1-1f89-4704-b07f-295a51f8eb34"
      },
      "source": [
        "plot_decision_boundary(model=model7,X=X,y=y)"
      ],
      "execution_count": null,
      "outputs": [
        {
          "output_type": "stream",
          "name": "stdout",
          "text": [
            "doing binary classification\n"
          ]
        },
        {
          "output_type": "display_data",
          "data": {
            "image/png": "[encoded data removed]",
            "text/plain": [
              "<Figure size 432x288 with 1 Axes>"
            ]
          },
          "metadata": {
            "needs_background": "light"
          }
        }
      ]
    },
    {
      "cell_type": "code",
      "metadata": {
        "id": "fOuSfc05Ojj_"
      },
      "source": [
        ""
      ],
      "execution_count": null,
      "outputs": []
    }
  ]
}