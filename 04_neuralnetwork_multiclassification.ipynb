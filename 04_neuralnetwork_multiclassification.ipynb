{
  "nbformat": 4,
  "nbformat_minor": 0,
  "metadata": {
    "colab": {
      "name": "04_neuralnetwork_multiclassification.ipynb",
      "provenance": [],
      "collapsed_sections": [],
      "authorship_tag": "ABX9TyMsx+XkyKEKcnC4FywUX+Dm",
      "include_colab_link": true
    },
    "kernelspec": {
      "name": "python3",
      "display_name": "Python 3"
    },
    "language_info": {
      "name": "python"
    },
    "accelerator": "GPU"
  },
  "cells": [
    {
      "cell_type": "markdown",
      "metadata": {
        "id": "view-in-github",
        "colab_type": "text"
      },
      "source": [
        "<a href=\"https://colab.research.google.com/github/Mhtag/tensorflow/blob/main/04_neuralnetwork_multiclassification.ipynb\" target=\"_parent\"><img src=\"https://colab.research.google.com/assets/colab-badge.svg\" alt=\"Open In Colab\"/></a>"
      ]
    },
    {
      "cell_type": "code",
      "metadata": {
        "id": "e_hiPXjPQdV4"
      },
      "source": [
        "import tensorflow as tf\n",
        "from tensorflow.keras.datasets import fashion_mnist\n",
        "import pandas as pd\n",
        "import matplotlib.pyplot as plt\n",
        "import numpy as np\n",
        "\n"
      ],
      "execution_count": null,
      "outputs": []
    },
    {
      "cell_type": "code",
      "metadata": {
        "colab": {
          "base_uri": "https://localhost:8080/"
        },
        "id": "mW5F36u0RAbJ",
        "outputId": "e4c800bc-ef2a-4f3e-ae32-25c5bb49cc15"
      },
      "source": [
        "(train_data, train_labels),(test_data, test_labels) = fashion_mnist.load_data()"
      ],
      "execution_count": null,
      "outputs": [
        {
          "output_type": "stream",
          "name": "stdout",
          "text": [
            "Downloading data from https://storage.googleapis.com/tensorflow/tf-keras-datasets/train-labels-idx1-ubyte.gz\n",
            "32768/29515 [=================================] - 0s 0us/step\n",
            "40960/29515 [=========================================] - 0s 0us/step\n",
            "Downloading data from https://storage.googleapis.com/tensorflow/tf-keras-datasets/train-images-idx3-ubyte.gz\n",
            "26427392/26421880 [==============================] - 0s 0us/step\n",
            "26435584/26421880 [==============================] - 0s 0us/step\n",
            "Downloading data from https://storage.googleapis.com/tensorflow/tf-keras-datasets/t10k-labels-idx1-ubyte.gz\n",
            "16384/5148 [===============================================================================================] - 0s 0us/step\n",
            "Downloading data from https://storage.googleapis.com/tensorflow/tf-keras-datasets/t10k-images-idx3-ubyte.gz\n",
            "4423680/4422102 [==============================] - 0s 0us/step\n",
            "4431872/4422102 [==============================] - 0s 0us/step\n"
          ]
        }
      ]
    },
    {
      "cell_type": "code",
      "metadata": {
        "colab": {
          "base_uri": "https://localhost:8080/"
        },
        "id": "jkgyDFTeRVFB",
        "outputId": "b721c5eb-93c0-4448-d2cb-c3a067e42972"
      },
      "source": [
        "# show the first training example\n",
        "\n",
        "print(f'training example:\\n{train_data[0]}\\n')\n",
        "print(f'training label:\\n{train_labels[0]}')"
      ],
      "execution_count": null,
      "outputs": [
        {
          "output_type": "stream",
          "name": "stdout",
          "text": [
            "training example:\n",
            "[[  0   0   0   0   0   0   0   0   0   0   0   0   0   0   0   0   0   0\n",
            "    0   0   0   0   0   0   0   0   0   0]\n",
            " [  0   0   0   0   0   0   0   0   0   0   0   0   0   0   0   0   0   0\n",
            "    0   0   0   0   0   0   0   0   0   0]\n",
            " [  0   0   0   0   0   0   0   0   0   0   0   0   0   0   0   0   0   0\n",
            "    0   0   0   0   0   0   0   0   0   0]\n",
            " [  0   0   0   0   0   0   0   0   0   0   0   0   1   0   0  13  73   0\n",
            "    0   1   4   0   0   0   0   1   1   0]\n",
            " [  0   0   0   0   0   0   0   0   0   0   0   0   3   0  36 136 127  62\n",
            "   54   0   0   0   1   3   4   0   0   3]\n",
            " [  0   0   0   0   0   0   0   0   0   0   0   0   6   0 102 204 176 134\n",
            "  144 123  23   0   0   0   0  12  10   0]\n",
            " [  0   0   0   0   0   0   0   0   0   0   0   0   0   0 155 236 207 178\n",
            "  107 156 161 109  64  23  77 130  72  15]\n",
            " [  0   0   0   0   0   0   0   0   0   0   0   1   0  69 207 223 218 216\n",
            "  216 163 127 121 122 146 141  88 172  66]\n",
            " [  0   0   0   0   0   0   0   0   0   1   1   1   0 200 232 232 233 229\n",
            "  223 223 215 213 164 127 123 196 229   0]\n",
            " [  0   0   0   0   0   0   0   0   0   0   0   0   0 183 225 216 223 228\n",
            "  235 227 224 222 224 221 223 245 173   0]\n",
            " [  0   0   0   0   0   0   0   0   0   0   0   0   0 193 228 218 213 198\n",
            "  180 212 210 211 213 223 220 243 202   0]\n",
            " [  0   0   0   0   0   0   0   0   0   1   3   0  12 219 220 212 218 192\n",
            "  169 227 208 218 224 212 226 197 209  52]\n",
            " [  0   0   0   0   0   0   0   0   0   0   6   0  99 244 222 220 218 203\n",
            "  198 221 215 213 222 220 245 119 167  56]\n",
            " [  0   0   0   0   0   0   0   0   0   4   0   0  55 236 228 230 228 240\n",
            "  232 213 218 223 234 217 217 209  92   0]\n",
            " [  0   0   1   4   6   7   2   0   0   0   0   0 237 226 217 223 222 219\n",
            "  222 221 216 223 229 215 218 255  77   0]\n",
            " [  0   3   0   0   0   0   0   0   0  62 145 204 228 207 213 221 218 208\n",
            "  211 218 224 223 219 215 224 244 159   0]\n",
            " [  0   0   0   0  18  44  82 107 189 228 220 222 217 226 200 205 211 230\n",
            "  224 234 176 188 250 248 233 238 215   0]\n",
            " [  0  57 187 208 224 221 224 208 204 214 208 209 200 159 245 193 206 223\n",
            "  255 255 221 234 221 211 220 232 246   0]\n",
            " [  3 202 228 224 221 211 211 214 205 205 205 220 240  80 150 255 229 221\n",
            "  188 154 191 210 204 209 222 228 225   0]\n",
            " [ 98 233 198 210 222 229 229 234 249 220 194 215 217 241  65  73 106 117\n",
            "  168 219 221 215 217 223 223 224 229  29]\n",
            " [ 75 204 212 204 193 205 211 225 216 185 197 206 198 213 240 195 227 245\n",
            "  239 223 218 212 209 222 220 221 230  67]\n",
            " [ 48 203 183 194 213 197 185 190 194 192 202 214 219 221 220 236 225 216\n",
            "  199 206 186 181 177 172 181 205 206 115]\n",
            " [  0 122 219 193 179 171 183 196 204 210 213 207 211 210 200 196 194 191\n",
            "  195 191 198 192 176 156 167 177 210  92]\n",
            " [  0   0  74 189 212 191 175 172 175 181 185 188 189 188 193 198 204 209\n",
            "  210 210 211 188 188 194 192 216 170   0]\n",
            " [  2   0   0   0  66 200 222 237 239 242 246 243 244 221 220 193 191 179\n",
            "  182 182 181 176 166 168  99  58   0   0]\n",
            " [  0   0   0   0   0   0   0  40  61  44  72  41  35   0   0   0   0   0\n",
            "    0   0   0   0   0   0   0   0   0   0]\n",
            " [  0   0   0   0   0   0   0   0   0   0   0   0   0   0   0   0   0   0\n",
            "    0   0   0   0   0   0   0   0   0   0]\n",
            " [  0   0   0   0   0   0   0   0   0   0   0   0   0   0   0   0   0   0\n",
            "    0   0   0   0   0   0   0   0   0   0]]\n",
            "\n",
            "training label:\n",
            "9\n"
          ]
        }
      ]
    },
    {
      "cell_type": "code",
      "metadata": {
        "colab": {
          "base_uri": "https://localhost:8080/"
        },
        "id": "PQBw2mz0R63Y",
        "outputId": "507743e2-5fb9-4a28-a714-647b97f00a47"
      },
      "source": [
        "train_data[0].shape, train_labels[0].shape"
      ],
      "execution_count": null,
      "outputs": [
        {
          "output_type": "execute_result",
          "data": {
            "text/plain": [
              "((28, 28), ())"
            ]
          },
          "metadata": {},
          "execution_count": 4
        }
      ]
    },
    {
      "cell_type": "code",
      "metadata": {
        "colab": {
          "base_uri": "https://localhost:8080/",
          "height": 282
        },
        "id": "LwqIXchkSg3t",
        "outputId": "6c1ffec1-b596-4d1a-99b6-db50418e566f"
      },
      "source": [
        "plt.imshow(train_data[0])"
      ],
      "execution_count": null,
      "outputs": [
        {
          "output_type": "execute_result",
          "data": {
            "text/plain": [
              "<matplotlib.image.AxesImage at 0x7f20449483d0>"
            ]
          },
          "metadata": {},
          "execution_count": 5
        },
        {
          "output_type": "display_data",
          "data": {
            "image/png": "[encoded data removed]",
            "text/plain": [
              "<Figure size 432x288 with 1 Axes>"
            ]
          },
          "metadata": {
            "needs_background": "light"
          }
        }
      ]
    },
    {
      "cell_type": "code",
      "metadata": {
        "colab": {
          "base_uri": "https://localhost:8080/"
        },
        "id": "6tm_KOs1S4Yp",
        "outputId": "40c87338-0e27-47e3-855f-d0ef78bc433e"
      },
      "source": [
        "# create a small list \n",
        "class_name = ['T-shirt/top','Trouser','Pullover','Dress','Coat','Sandal','Shirt','Sneaker','Bag','Ankle boot']\n",
        "len(class_name)"
      ],
      "execution_count": null,
      "outputs": [
        {
          "output_type": "execute_result",
          "data": {
            "text/plain": [
              "10"
            ]
          },
          "metadata": {},
          "execution_count": 6
        }
      ]
    },
    {
      "cell_type": "code",
      "metadata": {
        "colab": {
          "base_uri": "https://localhost:8080/",
          "height": 427
        },
        "id": "dQDsMBnIUZ0A",
        "outputId": "35326859-06bd-4b47-f3e2-9d49455e3e1b"
      },
      "source": [
        "# plot multiple random images of mnist dataset\n",
        "import random\n",
        "plt.figure(figsize=(7,7))\n",
        "for i in range(4):\n",
        "  ax = plt.subplot(2, 2 ,i+1)\n",
        "  rand_index = random.choice(range(len(train_data)))\n",
        "  plt.imshow(train_data[rand_index], cmap=plt.cm.binary)\n",
        "  plt.title(class_name[train_labels[rand_index]])\n",
        "  plt.axis(False)"
      ],
      "execution_count": null,
      "outputs": [
        {
          "output_type": "display_data",
          "data": {
            "image/png": "[encoded data removed]",
            "text/plain": [
              "<Figure size 504x504 with 4 Axes>"
            ]
          },
          "metadata": {
            "needs_background": "light"
          }
        }
      ]
    },
    {
      "cell_type": "markdown",
      "metadata": {
        "id": "d5pL6cdkXk4Z"
      },
      "source": [
        "## Building a multiclass classification model\n",
        "\n",
        "* if label are one hot encoded use CategoricalCrossentropy() as the loss function and if label is in integer format use SparseCategoricalCrossentropy()."
      ]
    },
    {
      "cell_type": "code",
      "metadata": {
        "colab": {
          "base_uri": "https://localhost:8080/"
        },
        "id": "Ewy4ijOjYDUR",
        "outputId": "f9846369-78b7-4be3-be47-be35ecb91e57"
      },
      "source": [
        "train_data[0].shape"
      ],
      "execution_count": null,
      "outputs": [
        {
          "output_type": "execute_result",
          "data": {
            "text/plain": [
              "(28, 28)"
            ]
          },
          "metadata": {},
          "execution_count": 8
        }
      ]
    },
    {
      "cell_type": "code",
      "metadata": {
        "colab": {
          "base_uri": "https://localhost:8080/"
        },
        "id": "1HQ6turcaKun",
        "outputId": "2750f8ed-a7a1-4849-e8f1-e471c00825fa"
      },
      "source": [
        "# our data needs to be flatten\n",
        "flatten_model = tf.keras.Sequential([tf.keras.layers.Flatten(input_shape=(28,28))])\n",
        "flatten_model.output_shape"
      ],
      "execution_count": null,
      "outputs": [
        {
          "output_type": "execute_result",
          "data": {
            "text/plain": [
              "(None, 784)"
            ]
          },
          "metadata": {},
          "execution_count": 9
        }
      ]
    },
    {
      "cell_type": "markdown",
      "metadata": {
        "id": "6nrqLsKXQjQw"
      },
      "source": [
        ""
      ]
    },
    {
      "cell_type": "code",
      "metadata": {
        "colab": {
          "base_uri": "https://localhost:8080/"
        },
        "id": "7B21ajGCWB6z",
        "outputId": "fae2dc51-60f7-4604-f6d8-bc4db2521dc0"
      },
      "source": [
        "tf.random.set_seed(42)\n",
        "\n",
        "model_1 = tf.keras.Sequential([\n",
        "                               tf.keras.layers.Flatten(input_shape=(28,28)),\n",
        "                               tf.keras.layers.Dense(4, activation='relu'),\n",
        "                               tf.keras.layers.Dense(4, activation='relu'),\n",
        "                               tf.keras.layers.Dense(10, activation='softmax')\n",
        "])\n",
        "\n",
        "model_1.compile(loss=tf.keras.losses.SparseCategoricalCrossentropy(),\n",
        "                optimizer=tf.keras.optimizers.Adam(),\n",
        "                metrics=['accuracy'])\n",
        "\n",
        "non_norm_history = model_1.fit(train_data, train_labels,\n",
        "                               epochs=10,\n",
        "                               validation_data=(test_data,test_labels))"
      ],
      "execution_count": null,
      "outputs": [
        {
          "output_type": "stream",
          "name": "stdout",
          "text": [
            "Epoch 1/10\n",
            "1875/1875 [==============================] - 8s 3ms/step - loss: 2.1772 - accuracy: 0.1593 - val_loss: 1.8122 - val_accuracy: 0.2049\n",
            "Epoch 2/10\n",
            "1875/1875 [==============================] - 5s 3ms/step - loss: 1.7162 - accuracy: 0.2447 - val_loss: 1.6517 - val_accuracy: 0.2895\n",
            "Epoch 3/10\n",
            "1875/1875 [==============================] - 5s 3ms/step - loss: 1.6362 - accuracy: 0.2834 - val_loss: 1.6411 - val_accuracy: 0.3092\n",
            "Epoch 4/10\n",
            "1875/1875 [==============================] - 5s 3ms/step - loss: 1.6066 - accuracy: 0.2948 - val_loss: 1.6071 - val_accuracy: 0.2957\n",
            "Epoch 5/10\n",
            "1875/1875 [==============================] - 5s 3ms/step - loss: 1.6069 - accuracy: 0.3020 - val_loss: 1.5915 - val_accuracy: 0.2866\n",
            "Epoch 6/10\n",
            "1875/1875 [==============================] - 5s 3ms/step - loss: 1.5841 - accuracy: 0.3118 - val_loss: 1.5669 - val_accuracy: 0.3257\n",
            "Epoch 7/10\n",
            "1875/1875 [==============================] - 5s 3ms/step - loss: 1.5818 - accuracy: 0.3174 - val_loss: 1.5601 - val_accuracy: 0.3289\n",
            "Epoch 8/10\n",
            "1875/1875 [==============================] - 5s 3ms/step - loss: 1.5784 - accuracy: 0.3148 - val_loss: 1.5766 - val_accuracy: 0.3262\n",
            "Epoch 9/10\n",
            "1875/1875 [==============================] - 5s 3ms/step - loss: 1.5713 - accuracy: 0.3250 - val_loss: 1.5652 - val_accuracy: 0.3138\n",
            "Epoch 10/10\n",
            "1875/1875 [==============================] - 5s 3ms/step - loss: 1.5689 - accuracy: 0.3201 - val_loss: 1.5680 - val_accuracy: 0.3045\n"
          ]
        }
      ]
    },
    {
      "cell_type": "code",
      "metadata": {
        "colab": {
          "base_uri": "https://localhost:8080/"
        },
        "id": "PHwhG6IXZ1un",
        "outputId": "1dde3bcd-0654-421a-b113-c99c91fc2cf8"
      },
      "source": [
        "model_1.summary()"
      ],
      "execution_count": null,
      "outputs": [
        {
          "output_type": "stream",
          "name": "stdout",
          "text": [
            "Model: \"sequential_1\"\n",
            "_________________________________________________________________\n",
            "Layer (type)                 Output Shape              Param #   \n",
            "=================================================================\n",
            "flatten_1 (Flatten)          (None, 784)               0         \n",
            "_________________________________________________________________\n",
            "dense (Dense)                (None, 4)                 3140      \n",
            "_________________________________________________________________\n",
            "dense_1 (Dense)              (None, 4)                 20        \n",
            "_________________________________________________________________\n",
            "dense_2 (Dense)              (None, 10)                50        \n",
            "=================================================================\n",
            "Total params: 3,210\n",
            "Trainable params: 3,210\n",
            "Non-trainable params: 0\n",
            "_________________________________________________________________\n"
          ]
        }
      ]
    },
    {
      "cell_type": "markdown",
      "metadata": {
        "id": "ffEheIPSoc_x"
      },
      "source": [
        "## Normalized data"
      ]
    },
    {
      "cell_type": "markdown",
      "metadata": {
        "id": "b3HLsAzudWUS"
      },
      "source": [
        "Neural Networks prefer data to be scaled (or normalized), this means they likely to have the numbers between 0 and 1."
      ]
    },
    {
      "cell_type": "code",
      "metadata": {
        "colab": {
          "base_uri": "https://localhost:8080/"
        },
        "id": "IjhdCwYMedoD",
        "outputId": "1bcaa351-fe4d-450f-eb59-a20f67b3098f"
      },
      "source": [
        "# check the max and min value of our train data\n",
        "train_data.max(), train_data.min()"
      ],
      "execution_count": null,
      "outputs": [
        {
          "output_type": "execute_result",
          "data": {
            "text/plain": [
              "(255, 0)"
            ]
          },
          "metadata": {},
          "execution_count": 12
        }
      ]
    },
    {
      "cell_type": "code",
      "metadata": {
        "colab": {
          "base_uri": "https://localhost:8080/"
        },
        "id": "EOjPADUacryh",
        "outputId": "7f665c29-ecdc-4023-ccfd-00ac263b0a2c"
      },
      "source": [
        "# we can get our training & testing data betweeb 0 and 1 by dividing it with maximum\n",
        "\n",
        "train_data_norm = train_data / train_data.max()\n",
        "test_data_norm = test_data / test_data.max()\n",
        "\n",
        "# Check the mon and max value of scaled trained data\n",
        "train_data_norm.max(), train_data_norm.min()"
      ],
      "execution_count": null,
      "outputs": [
        {
          "output_type": "execute_result",
          "data": {
            "text/plain": [
              "(1.0, 0.0)"
            ]
          },
          "metadata": {},
          "execution_count": 13
        }
      ]
    },
    {
      "cell_type": "code",
      "metadata": {
        "colab": {
          "base_uri": "https://localhost:8080/"
        },
        "id": "7UBzHcJsebDK",
        "outputId": "13f5cf96-04de-4e50-a354-12fa752a1668"
      },
      "source": [
        "tf.random.set_seed(42)\n",
        "\n",
        "# Craete a model\n",
        "\n",
        "model_2 = tf.keras.Sequential([\n",
        "                               tf.keras.layers.Flatten(input_shape=(28,28)),\n",
        "                               tf.keras.layers.Dense(4, activation='relu'),\n",
        "                               tf.keras.layers.Dense(4, activation='relu'),\n",
        "                               tf.keras.layers.Dense(10, activation='softmax')\n",
        "])\n",
        "\n",
        "model_2.compile(loss=tf.keras.losses.SparseCategoricalCrossentropy(),\n",
        "                optimizer=tf.keras.optimizers.Adam(),\n",
        "                metrics=['accuracy'])\n",
        "\n",
        "norm_history = model_2.fit(train_data_norm, train_labels, epochs=10,\n",
        "            validation_data=(test_data_norm, test_labels))"
      ],
      "execution_count": null,
      "outputs": [
        {
          "output_type": "stream",
          "name": "stdout",
          "text": [
            "Epoch 1/10\n",
            "1875/1875 [==============================] - 6s 3ms/step - loss: 1.0348 - accuracy: 0.6474 - val_loss: 0.6937 - val_accuracy: 0.7617\n",
            "Epoch 2/10\n",
            "1875/1875 [==============================] - 5s 3ms/step - loss: 0.6376 - accuracy: 0.7757 - val_loss: 0.6400 - val_accuracy: 0.7820\n",
            "Epoch 3/10\n",
            "1875/1875 [==============================] - 5s 3ms/step - loss: 0.5942 - accuracy: 0.7914 - val_loss: 0.6247 - val_accuracy: 0.7783\n",
            "Epoch 4/10\n",
            "1875/1875 [==============================] - 5s 3ms/step - loss: 0.5750 - accuracy: 0.7979 - val_loss: 0.6078 - val_accuracy: 0.7881\n",
            "Epoch 5/10\n",
            "1875/1875 [==============================] - 5s 3ms/step - loss: 0.5641 - accuracy: 0.8006 - val_loss: 0.6169 - val_accuracy: 0.7881\n",
            "Epoch 6/10\n",
            "1875/1875 [==============================] - 5s 3ms/step - loss: 0.5544 - accuracy: 0.8043 - val_loss: 0.5855 - val_accuracy: 0.7951\n",
            "Epoch 7/10\n",
            "1875/1875 [==============================] - 5s 3ms/step - loss: 0.5488 - accuracy: 0.8063 - val_loss: 0.6097 - val_accuracy: 0.7836\n",
            "Epoch 8/10\n",
            "1875/1875 [==============================] - 5s 3ms/step - loss: 0.5428 - accuracy: 0.8077 - val_loss: 0.5787 - val_accuracy: 0.7971\n",
            "Epoch 9/10\n",
            "1875/1875 [==============================] - 5s 3ms/step - loss: 0.5373 - accuracy: 0.8097 - val_loss: 0.5698 - val_accuracy: 0.7977\n",
            "Epoch 10/10\n",
            "1875/1875 [==============================] - 5s 3ms/step - loss: 0.5360 - accuracy: 0.8124 - val_loss: 0.5658 - val_accuracy: 0.8014\n"
          ]
        }
      ]
    },
    {
      "cell_type": "code",
      "metadata": {
        "colab": {
          "base_uri": "https://localhost:8080/",
          "height": 562
        },
        "id": "fTVbdcb_gguX",
        "outputId": "fec029d3-18b1-4ba7-80be-b2b5f9e6a667"
      },
      "source": [
        "pd.DataFrame(non_norm_history.history).plot(title='Non Normalized data')\n",
        "\n",
        "pd.DataFrame(norm_history.history).plot(title='Normalized Data')"
      ],
      "execution_count": null,
      "outputs": [
        {
          "output_type": "execute_result",
          "data": {
            "text/plain": [
              "<matplotlib.axes._subplots.AxesSubplot at 0x7f1fcb94bb90>"
            ]
          },
          "metadata": {},
          "execution_count": 15
        },
        {
          "output_type": "display_data",
          "data": {
            "image/png": "[encoded data removed]",
            "text/plain": [
              "<Figure size 432x288 with 1 Axes>"
            ]
          },
          "metadata": {
            "needs_background": "light"
          }
        },
        {
          "output_type": "display_data",
          "data": {
            "image/png": "[encoded data removed]",
            "text/plain": [
              "<Figure size 432x288 with 1 Axes>"
            ]
          },
          "metadata": {
            "needs_background": "light"
          }
        }
      ]
    },
    {
      "cell_type": "markdown",
      "metadata": {
        "id": "OyWF0HQZkFk9"
      },
      "source": [
        "## Finding the ideal Learning rate"
      ]
    },
    {
      "cell_type": "code",
      "metadata": {
        "colab": {
          "base_uri": "https://localhost:8080/"
        },
        "id": "b_lzjYYRiRSI",
        "outputId": "e1fa43ff-8fe6-4233-8306-b8eae1a8ca95"
      },
      "source": [
        "model_3 = tf.keras.Sequential([\n",
        "                               tf.keras.layers.Flatten(input_shape=(28,28)),\n",
        "                               tf.keras.layers.Dense(10, activation='relu'),\n",
        "                               tf.keras.layers.Dense(10, activation='relu'),\n",
        "                               tf.keras.layers.Dense(10, activation='softmax')\n",
        "])\n",
        "\n",
        "model_3.compile(loss=tf.keras.losses.SparseCategoricalCrossentropy(),\n",
        "                optimizer=tf.keras.optimizers.Adam(),\n",
        "                metrics=['accuracy'])\n",
        "\n",
        "# Create the Learning rate call back\n",
        "lr_schedular = tf.keras.callbacks.LearningRateScheduler(lambda epoch: 1e-3 * 10**(epoch/20))\n",
        "\n",
        "find_lr_history = model_3.fit(train_data_norm, train_labels, epochs=40,\n",
        "            validation_data=(test_data_norm,test_labels),\n",
        "            callbacks=[lr_schedular])"
      ],
      "execution_count": null,
      "outputs": [
        {
          "output_type": "stream",
          "name": "stdout",
          "text": [
            "Epoch 1/40\n",
            "1875/1875 [==============================] - 6s 3ms/step - loss: 0.6973 - accuracy: 0.7524 - val_loss: 0.5060 - val_accuracy: 0.8190\n",
            "Epoch 2/40\n",
            "1875/1875 [==============================] - 5s 3ms/step - loss: 0.4653 - accuracy: 0.8328 - val_loss: 0.5253 - val_accuracy: 0.8170\n",
            "Epoch 3/40\n",
            "1875/1875 [==============================] - 5s 3ms/step - loss: 0.4399 - accuracy: 0.8422 - val_loss: 0.4747 - val_accuracy: 0.8232\n",
            "Epoch 4/40\n",
            "1875/1875 [==============================] - 5s 3ms/step - loss: 0.4243 - accuracy: 0.8487 - val_loss: 0.4790 - val_accuracy: 0.8312\n",
            "Epoch 5/40\n",
            "1875/1875 [==============================] - 5s 3ms/step - loss: 0.4171 - accuracy: 0.8503 - val_loss: 0.4587 - val_accuracy: 0.8356\n",
            "Epoch 6/40\n",
            "1875/1875 [==============================] - 5s 3ms/step - loss: 0.4097 - accuracy: 0.8528 - val_loss: 0.4894 - val_accuracy: 0.8189\n",
            "Epoch 7/40\n",
            "1875/1875 [==============================] - 5s 3ms/step - loss: 0.4059 - accuracy: 0.8538 - val_loss: 0.4510 - val_accuracy: 0.8373\n",
            "Epoch 8/40\n",
            "1875/1875 [==============================] - 5s 3ms/step - loss: 0.4012 - accuracy: 0.8536 - val_loss: 0.4388 - val_accuracy: 0.8435\n",
            "Epoch 9/40\n",
            "1875/1875 [==============================] - 5s 3ms/step - loss: 0.3988 - accuracy: 0.8556 - val_loss: 0.4454 - val_accuracy: 0.8398\n",
            "Epoch 10/40\n",
            "1875/1875 [==============================] - 5s 3ms/step - loss: 0.3985 - accuracy: 0.8552 - val_loss: 0.4453 - val_accuracy: 0.8390\n",
            "Epoch 11/40\n",
            "1875/1875 [==============================] - 5s 3ms/step - loss: 0.3991 - accuracy: 0.8541 - val_loss: 0.4494 - val_accuracy: 0.8372\n",
            "Epoch 12/40\n",
            "1875/1875 [==============================] - 5s 3ms/step - loss: 0.3967 - accuracy: 0.8552 - val_loss: 0.4496 - val_accuracy: 0.8387\n",
            "Epoch 13/40\n",
            "1875/1875 [==============================] - 5s 3ms/step - loss: 0.3980 - accuracy: 0.8554 - val_loss: 0.4424 - val_accuracy: 0.8372\n",
            "Epoch 14/40\n",
            "1875/1875 [==============================] - 5s 3ms/step - loss: 0.3945 - accuracy: 0.8559 - val_loss: 0.4706 - val_accuracy: 0.8326\n",
            "Epoch 15/40\n",
            "1875/1875 [==============================] - 5s 3ms/step - loss: 0.3983 - accuracy: 0.8544 - val_loss: 0.4454 - val_accuracy: 0.8350\n",
            "Epoch 16/40\n",
            "1875/1875 [==============================] - 5s 3ms/step - loss: 0.3979 - accuracy: 0.8547 - val_loss: 0.4550 - val_accuracy: 0.8348\n",
            "Epoch 17/40\n",
            "1875/1875 [==============================] - 5s 3ms/step - loss: 0.3976 - accuracy: 0.8557 - val_loss: 0.4293 - val_accuracy: 0.8470\n",
            "Epoch 18/40\n",
            "1875/1875 [==============================] - 5s 3ms/step - loss: 0.4092 - accuracy: 0.8520 - val_loss: 0.4637 - val_accuracy: 0.8394\n",
            "Epoch 19/40\n",
            "1875/1875 [==============================] - 5s 3ms/step - loss: 0.4118 - accuracy: 0.8501 - val_loss: 0.4300 - val_accuracy: 0.8484\n",
            "Epoch 20/40\n",
            "1875/1875 [==============================] - 5s 3ms/step - loss: 0.4188 - accuracy: 0.8490 - val_loss: 0.4705 - val_accuracy: 0.8348\n",
            "Epoch 21/40\n",
            "1875/1875 [==============================] - 5s 3ms/step - loss: 0.4176 - accuracy: 0.8506 - val_loss: 0.4723 - val_accuracy: 0.8294\n",
            "Epoch 22/40\n",
            "1875/1875 [==============================] - 5s 3ms/step - loss: 0.4324 - accuracy: 0.8470 - val_loss: 0.4795 - val_accuracy: 0.8341\n",
            "Epoch 23/40\n",
            "1875/1875 [==============================] - 5s 3ms/step - loss: 0.4440 - accuracy: 0.8444 - val_loss: 0.5557 - val_accuracy: 0.7997\n",
            "Epoch 24/40\n",
            "1875/1875 [==============================] - 5s 3ms/step - loss: 0.4629 - accuracy: 0.8386 - val_loss: 0.4797 - val_accuracy: 0.8347\n",
            "Epoch 25/40\n",
            "1875/1875 [==============================] - 5s 3ms/step - loss: 0.4685 - accuracy: 0.8394 - val_loss: 0.5405 - val_accuracy: 0.8183\n",
            "Epoch 26/40\n",
            "1875/1875 [==============================] - 5s 3ms/step - loss: 0.4979 - accuracy: 0.8324 - val_loss: 0.5019 - val_accuracy: 0.8307\n",
            "Epoch 27/40\n",
            "1875/1875 [==============================] - 5s 3ms/step - loss: 0.5076 - accuracy: 0.8287 - val_loss: 0.5817 - val_accuracy: 0.8138\n",
            "Epoch 28/40\n",
            "1875/1875 [==============================] - 5s 3ms/step - loss: 0.5271 - accuracy: 0.8231 - val_loss: 0.6229 - val_accuracy: 0.8099\n",
            "Epoch 29/40\n",
            "1875/1875 [==============================] - 5s 3ms/step - loss: 0.5537 - accuracy: 0.8164 - val_loss: 0.5952 - val_accuracy: 0.8122\n",
            "Epoch 30/40\n",
            "1875/1875 [==============================] - 5s 3ms/step - loss: 0.5711 - accuracy: 0.8133 - val_loss: 0.6298 - val_accuracy: 0.8037\n",
            "Epoch 31/40\n",
            "1875/1875 [==============================] - 5s 3ms/step - loss: 0.6574 - accuracy: 0.7706 - val_loss: 0.7588 - val_accuracy: 0.7355\n",
            "Epoch 32/40\n",
            "1875/1875 [==============================] - 5s 3ms/step - loss: 0.7334 - accuracy: 0.7409 - val_loss: 0.9067 - val_accuracy: 0.7730\n",
            "Epoch 33/40\n",
            "1875/1875 [==============================] - 5s 3ms/step - loss: 0.7757 - accuracy: 0.7260 - val_loss: 0.8975 - val_accuracy: 0.6522\n",
            "Epoch 34/40\n",
            "1875/1875 [==============================] - 5s 3ms/step - loss: 1.0546 - accuracy: 0.5643 - val_loss: 1.2491 - val_accuracy: 0.5114\n",
            "Epoch 35/40\n",
            "1875/1875 [==============================] - 5s 3ms/step - loss: 1.1567 - accuracy: 0.5231 - val_loss: 1.3929 - val_accuracy: 0.5310\n",
            "Epoch 36/40\n",
            "1875/1875 [==============================] - 5s 3ms/step - loss: 1.7169 - accuracy: 0.3153 - val_loss: 1.5958 - val_accuracy: 0.3073\n",
            "Epoch 37/40\n",
            "1875/1875 [==============================] - 5s 3ms/step - loss: 1.6361 - accuracy: 0.2831 - val_loss: 1.5679 - val_accuracy: 0.2825\n",
            "Epoch 38/40\n",
            "1875/1875 [==============================] - 5s 3ms/step - loss: 1.5139 - accuracy: 0.2859 - val_loss: 1.5206 - val_accuracy: 0.2903\n",
            "Epoch 39/40\n",
            "1875/1875 [==============================] - 5s 3ms/step - loss: 1.6326 - accuracy: 0.2355 - val_loss: 1.7171 - val_accuracy: 0.1971\n",
            "Epoch 40/40\n",
            "1875/1875 [==============================] - 5s 3ms/step - loss: 1.7185 - accuracy: 0.1997 - val_loss: 1.7208 - val_accuracy: 0.1996\n"
          ]
        }
      ]
    },
    {
      "cell_type": "code",
      "metadata": {
        "colab": {
          "base_uri": "https://localhost:8080/",
          "height": 316
        },
        "id": "6L82wd8clTgw",
        "outputId": "8c318f60-7835-4709-bee0-3a4a0af69d36"
      },
      "source": [
        "# plot the learning rate decay rate\n",
        "\n",
        "lre = find_lr_history.history['lr']\n",
        "plt.semilogx(lre, find_lr_history.history['loss'])\n",
        "plt.xlabel('Learning Rate')\n",
        "plt.ylabel('Loss')\n",
        "plt.title('Finding the ideal learning Rate')"
      ],
      "execution_count": null,
      "outputs": [
        {
          "output_type": "execute_result",
          "data": {
            "text/plain": [
              "Text(0.5, 1.0, 'Finding the ideal learning Rate')"
            ]
          },
          "metadata": {},
          "execution_count": 17
        },
        {
          "output_type": "display_data",
          "data": {
            "image/png": "[encoded data removed]",
            "text/plain": [
              "<Figure size 432x288 with 1 Axes>"
            ]
          },
          "metadata": {
            "needs_background": "light"
          }
        }
      ]
    },
    {
      "cell_type": "code",
      "metadata": {
        "colab": {
          "base_uri": "https://localhost:8080/"
        },
        "id": "y2Gu7ek0mNfI",
        "outputId": "bd3e95d2-b420-429e-9d4e-20f1cbc10fd6"
      },
      "source": [
        "# lets refit the model with ideal lerning rate\n",
        "\n",
        "tf.random.set_seed(42)\n",
        "\n",
        "model_4 = tf.keras.Sequential([\n",
        "                               tf.keras.layers.Flatten(input_shape=(28,28)),\n",
        "                               tf.keras.layers.Dense(50, activation='relu'),\n",
        "                               tf.keras.layers.Dense(10, activation='softmax')\n",
        "])\n",
        "\n",
        "model_4.compile(loss=tf.keras.losses.SparseCategoricalCrossentropy(),\n",
        "                optimizer=tf.keras.optimizers.Adam(lr=0.001),\n",
        "                metrics=['accuracy'])\n",
        "\n",
        "history_4 = model_4.fit(train_data_norm, train_labels, epochs=20,\n",
        "            validation_data=(test_data_norm, test_labels))"
      ],
      "execution_count": null,
      "outputs": [
        {
          "output_type": "stream",
          "name": "stderr",
          "text": [
            "/usr/local/lib/python3.7/dist-packages/keras/optimizer_v2/optimizer_v2.py:356: UserWarning: The `lr` argument is deprecated, use `learning_rate` instead.\n",
            "  \"The `lr` argument is deprecated, use `learning_rate` instead.\")\n"
          ]
        },
        {
          "output_type": "stream",
          "name": "stdout",
          "text": [
            "Epoch 1/20\n",
            "1875/1875 [==============================] - 5s 3ms/step - loss: 0.5192 - accuracy: 0.8190 - val_loss: 0.4446 - val_accuracy: 0.8413\n",
            "Epoch 2/20\n",
            "1875/1875 [==============================] - 5s 3ms/step - loss: 0.3940 - accuracy: 0.8599 - val_loss: 0.4746 - val_accuracy: 0.8375\n",
            "Epoch 3/20\n",
            "1875/1875 [==============================] - 5s 2ms/step - loss: 0.3590 - accuracy: 0.8721 - val_loss: 0.4046 - val_accuracy: 0.8515\n",
            "Epoch 4/20\n",
            "1875/1875 [==============================] - 5s 3ms/step - loss: 0.3366 - accuracy: 0.8790 - val_loss: 0.4032 - val_accuracy: 0.8540\n",
            "Epoch 5/20\n",
            "1875/1875 [==============================] - 5s 3ms/step - loss: 0.3214 - accuracy: 0.8831 - val_loss: 0.3801 - val_accuracy: 0.8653\n",
            "Epoch 6/20\n",
            "1875/1875 [==============================] - 5s 3ms/step - loss: 0.3064 - accuracy: 0.8880 - val_loss: 0.3860 - val_accuracy: 0.8582\n",
            "Epoch 7/20\n",
            "1875/1875 [==============================] - 5s 3ms/step - loss: 0.2972 - accuracy: 0.8921 - val_loss: 0.3852 - val_accuracy: 0.8633\n",
            "Epoch 8/20\n",
            "1875/1875 [==============================] - 5s 3ms/step - loss: 0.2857 - accuracy: 0.8948 - val_loss: 0.3495 - val_accuracy: 0.8757\n",
            "Epoch 9/20\n",
            "1875/1875 [==============================] - 5s 3ms/step - loss: 0.2776 - accuracy: 0.8986 - val_loss: 0.3572 - val_accuracy: 0.8757\n",
            "Epoch 10/20\n",
            "1875/1875 [==============================] - 5s 3ms/step - loss: 0.2711 - accuracy: 0.8996 - val_loss: 0.3519 - val_accuracy: 0.8746\n",
            "Epoch 11/20\n",
            "1875/1875 [==============================] - 5s 3ms/step - loss: 0.2634 - accuracy: 0.9025 - val_loss: 0.3502 - val_accuracy: 0.8797\n",
            "Epoch 12/20\n",
            "1875/1875 [==============================] - 5s 3ms/step - loss: 0.2574 - accuracy: 0.9050 - val_loss: 0.3531 - val_accuracy: 0.8776\n",
            "Epoch 13/20\n",
            "1875/1875 [==============================] - 5s 3ms/step - loss: 0.2502 - accuracy: 0.9081 - val_loss: 0.3485 - val_accuracy: 0.8768\n",
            "Epoch 14/20\n",
            "1875/1875 [==============================] - 5s 2ms/step - loss: 0.2472 - accuracy: 0.9086 - val_loss: 0.3434 - val_accuracy: 0.8817\n",
            "Epoch 15/20\n",
            "1875/1875 [==============================] - 5s 2ms/step - loss: 0.2398 - accuracy: 0.9112 - val_loss: 0.3522 - val_accuracy: 0.8810\n",
            "Epoch 16/20\n",
            "1875/1875 [==============================] - 5s 3ms/step - loss: 0.2343 - accuracy: 0.9133 - val_loss: 0.3678 - val_accuracy: 0.8757\n",
            "Epoch 17/20\n",
            "1875/1875 [==============================] - 5s 2ms/step - loss: 0.2314 - accuracy: 0.9143 - val_loss: 0.3628 - val_accuracy: 0.8790\n",
            "Epoch 18/20\n",
            "1875/1875 [==============================] - 5s 3ms/step - loss: 0.2275 - accuracy: 0.9150 - val_loss: 0.3502 - val_accuracy: 0.8822\n",
            "Epoch 19/20\n",
            "1875/1875 [==============================] - 5s 3ms/step - loss: 0.2241 - accuracy: 0.9165 - val_loss: 0.3526 - val_accuracy: 0.8792\n",
            "Epoch 20/20\n",
            "1875/1875 [==============================] - 5s 3ms/step - loss: 0.2191 - accuracy: 0.9191 - val_loss: 0.3689 - val_accuracy: 0.8810\n"
          ]
        }
      ]
    },
    {
      "cell_type": "code",
      "metadata": {
        "id": "f11Na98DoEx4"
      },
      "source": [
        "from sklearn.metrics import confusion_matrix\n",
        "import seaborn as sns"
      ],
      "execution_count": null,
      "outputs": []
    },
    {
      "cell_type": "markdown",
      "metadata": {
        "id": "uZ4W1gwo6l4_"
      },
      "source": [
        "### Making Predictions"
      ]
    },
    {
      "cell_type": "code",
      "metadata": {
        "id": "J0gubmRLsxPB"
      },
      "source": [
        "# Make prediction on our test data\n",
        "y_probs = model_4.predict(test_data_norm)\n",
        "\n"
      ],
      "execution_count": null,
      "outputs": []
    },
    {
      "cell_type": "code",
      "metadata": {
        "id": "1cf6oih6OU81"
      },
      "source": [
        ""
      ],
      "execution_count": null,
      "outputs": []
    },
    {
      "cell_type": "code",
      "metadata": {
        "colab": {
          "base_uri": "https://localhost:8080/"
        },
        "id": "-TeaZC43tJE4",
        "outputId": "d9eefd11-7ec1-4c0c-abc4-b690c839699d"
      },
      "source": [
        "y_probs[0], tf.argmax(y_probs[0]), class_name[tf.argmax(y_probs[0])]"
      ],
      "execution_count": null,
      "outputs": [
        {
          "output_type": "execute_result",
          "data": {
            "text/plain": [
              "(array([8.5900879e-08, 1.9946574e-16, 4.8369984e-09, 1.7335368e-09,\n",
              "        3.2211345e-05, 2.9740905e-04, 8.4525698e-07, 2.1027634e-03,\n",
              "        1.0409205e-07, 9.9756658e-01], dtype=float32),\n",
              " <tf.Tensor: shape=(), dtype=int64, numpy=9>,\n",
              " 'Ankle boot')"
            ]
          },
          "metadata": {},
          "execution_count": 21
        }
      ]
    },
    {
      "cell_type": "code",
      "metadata": {
        "colab": {
          "base_uri": "https://localhost:8080/"
        },
        "id": "Aln7GWcStyIo",
        "outputId": "34146d65-525e-487f-db4b-1fec75926071"
      },
      "source": [
        "# Convert all the prediction probabilities into integers\n",
        "y_pred = y_probs.argmax(axis=1)\n",
        "\n",
        "y_pred[:10]"
      ],
      "execution_count": null,
      "outputs": [
        {
          "output_type": "execute_result",
          "data": {
            "text/plain": [
              "array([9, 2, 1, 1, 6, 1, 4, 6, 5, 7])"
            ]
          },
          "metadata": {},
          "execution_count": 22
        }
      ]
    },
    {
      "cell_type": "markdown",
      "metadata": {
        "id": "uCEMipIK85KC"
      },
      "source": [
        "### Confusion Matrix"
      ]
    },
    {
      "cell_type": "code",
      "metadata": {
        "id": "eTPmlD0XuumZ"
      },
      "source": [
        "# Craete a confuson matix which compare the test_labels and y_pred\n",
        "cm = confusion_matrix(test_labels, y_pred)\n",
        "\n"
      ],
      "execution_count": null,
      "outputs": []
    },
    {
      "cell_type": "code",
      "metadata": {
        "colab": {
          "base_uri": "https://localhost:8080/"
        },
        "id": "D6SDaBMovfOf",
        "outputId": "797e196f-dc2c-4100-d435-4491fed327e1"
      },
      "source": [
        "cm"
      ],
      "execution_count": null,
      "outputs": [
        {
          "output_type": "execute_result",
          "data": {
            "text/plain": [
              "array([[851,   2,   9,  24,   7,   1,  94,   1,  11,   0],\n",
              "       [  5, 966,   2,  19,   5,   0,   1,   0,   2,   0],\n",
              "       [ 15,   1, 779,  13, 131,   0,  60,   0,   1,   0],\n",
              "       [ 19,   7,   9, 869,  66,   0,  26,   0,   4,   0],\n",
              "       [  0,   0,  65,  16, 893,   1,  24,   0,   1,   0],\n",
              "       [  0,   0,   0,   1,   0, 955,   0,  24,   2,  18],\n",
              "       [132,   3,  77,  24, 126,   1, 626,   0,  11,   0],\n",
              "       [  0,   0,   0,   0,   0,  13,   0, 966,   2,  19],\n",
              "       [  6,   0,   3,   4,   7,   5,   7,   5, 963,   0],\n",
              "       [  0,   1,   0,   0,   0,   6,   1,  50,   0, 942]])"
            ]
          },
          "metadata": {},
          "execution_count": 24
        }
      ]
    },
    {
      "cell_type": "code",
      "metadata": {
        "colab": {
          "base_uri": "https://localhost:8080/",
          "height": 357
        },
        "id": "_lgmceK_vgbf",
        "outputId": "7ad01a7c-d3b0-4656-d683-41cf8c1b6c62"
      },
      "source": [
        "# Creating a dataframe for a array-formatted Confusion matrix,so it will be easy for plotting.\n",
        "cm_df = pd.DataFrame(cm,\n",
        "                     index = class_name,\n",
        "                     columns= class_name)\n",
        "\n",
        "cm_df"
      ],
      "execution_count": null,
      "outputs": [
        {
          "output_type": "execute_result",
          "data": {
            "text/html": [
              "<div>\n",
              "<style scoped>\n",
              "    .dataframe tbody tr th:only-of-type {\n",
              "        vertical-align: middle;\n",
              "    }\n",
              "\n",
              "    .dataframe tbody tr th {\n",
              "        vertical-align: top;\n",
              "    }\n",
              "\n",
              "    .dataframe thead th {\n",
              "        text-align: right;\n",
              "    }\n",
              "</style>\n",
              "<table border=\"1\" class=\"dataframe\">\n",
              "  <thead>\n",
              "    <tr style=\"text-align: right;\">\n",
              "      <th></th>\n",
              "      <th>T-shirt/top</th>\n",
              "      <th>Trouser</th>\n",
              "      <th>Pullover</th>\n",
              "      <th>Dress</th>\n",
              "      <th>Coat</th>\n",
              "      <th>Sandal</th>\n",
              "      <th>Shirt</th>\n",
              "      <th>Sneaker</th>\n",
              "      <th>Bag</th>\n",
              "      <th>Ankle boot</th>\n",
              "    </tr>\n",
              "  </thead>\n",
              "  <tbody>\n",
              "    <tr>\n",
              "      <th>T-shirt/top</th>\n",
              "      <td>851</td>\n",
              "      <td>2</td>\n",
              "      <td>9</td>\n",
              "      <td>24</td>\n",
              "      <td>7</td>\n",
              "      <td>1</td>\n",
              "      <td>94</td>\n",
              "      <td>1</td>\n",
              "      <td>11</td>\n",
              "      <td>0</td>\n",
              "    </tr>\n",
              "    <tr>\n",
              "      <th>Trouser</th>\n",
              "      <td>5</td>\n",
              "      <td>966</td>\n",
              "      <td>2</td>\n",
              "      <td>19</td>\n",
              "      <td>5</td>\n",
              "      <td>0</td>\n",
              "      <td>1</td>\n",
              "      <td>0</td>\n",
              "      <td>2</td>\n",
              "      <td>0</td>\n",
              "    </tr>\n",
              "    <tr>\n",
              "      <th>Pullover</th>\n",
              "      <td>15</td>\n",
              "      <td>1</td>\n",
              "      <td>779</td>\n",
              "      <td>13</td>\n",
              "      <td>131</td>\n",
              "      <td>0</td>\n",
              "      <td>60</td>\n",
              "      <td>0</td>\n",
              "      <td>1</td>\n",
              "      <td>0</td>\n",
              "    </tr>\n",
              "    <tr>\n",
              "      <th>Dress</th>\n",
              "      <td>19</td>\n",
              "      <td>7</td>\n",
              "      <td>9</td>\n",
              "      <td>869</td>\n",
              "      <td>66</td>\n",
              "      <td>0</td>\n",
              "      <td>26</td>\n",
              "      <td>0</td>\n",
              "      <td>4</td>\n",
              "      <td>0</td>\n",
              "    </tr>\n",
              "    <tr>\n",
              "      <th>Coat</th>\n",
              "      <td>0</td>\n",
              "      <td>0</td>\n",
              "      <td>65</td>\n",
              "      <td>16</td>\n",
              "      <td>893</td>\n",
              "      <td>1</td>\n",
              "      <td>24</td>\n",
              "      <td>0</td>\n",
              "      <td>1</td>\n",
              "      <td>0</td>\n",
              "    </tr>\n",
              "    <tr>\n",
              "      <th>Sandal</th>\n",
              "      <td>0</td>\n",
              "      <td>0</td>\n",
              "      <td>0</td>\n",
              "      <td>1</td>\n",
              "      <td>0</td>\n",
              "      <td>955</td>\n",
              "      <td>0</td>\n",
              "      <td>24</td>\n",
              "      <td>2</td>\n",
              "      <td>18</td>\n",
              "    </tr>\n",
              "    <tr>\n",
              "      <th>Shirt</th>\n",
              "      <td>132</td>\n",
              "      <td>3</td>\n",
              "      <td>77</td>\n",
              "      <td>24</td>\n",
              "      <td>126</td>\n",
              "      <td>1</td>\n",
              "      <td>626</td>\n",
              "      <td>0</td>\n",
              "      <td>11</td>\n",
              "      <td>0</td>\n",
              "    </tr>\n",
              "    <tr>\n",
              "      <th>Sneaker</th>\n",
              "      <td>0</td>\n",
              "      <td>0</td>\n",
              "      <td>0</td>\n",
              "      <td>0</td>\n",
              "      <td>0</td>\n",
              "      <td>13</td>\n",
              "      <td>0</td>\n",
              "      <td>966</td>\n",
              "      <td>2</td>\n",
              "      <td>19</td>\n",
              "    </tr>\n",
              "    <tr>\n",
              "      <th>Bag</th>\n",
              "      <td>6</td>\n",
              "      <td>0</td>\n",
              "      <td>3</td>\n",
              "      <td>4</td>\n",
              "      <td>7</td>\n",
              "      <td>5</td>\n",
              "      <td>7</td>\n",
              "      <td>5</td>\n",
              "      <td>963</td>\n",
              "      <td>0</td>\n",
              "    </tr>\n",
              "    <tr>\n",
              "      <th>Ankle boot</th>\n",
              "      <td>0</td>\n",
              "      <td>1</td>\n",
              "      <td>0</td>\n",
              "      <td>0</td>\n",
              "      <td>0</td>\n",
              "      <td>6</td>\n",
              "      <td>1</td>\n",
              "      <td>50</td>\n",
              "      <td>0</td>\n",
              "      <td>942</td>\n",
              "    </tr>\n",
              "  </tbody>\n",
              "</table>\n",
              "</div>"
            ],
            "text/plain": [
              "             T-shirt/top  Trouser  Pullover  ...  Sneaker  Bag  Ankle boot\n",
              "T-shirt/top          851        2         9  ...        1   11           0\n",
              "Trouser                5      966         2  ...        0    2           0\n",
              "Pullover              15        1       779  ...        0    1           0\n",
              "Dress                 19        7         9  ...        0    4           0\n",
              "Coat                   0        0        65  ...        0    1           0\n",
              "Sandal                 0        0         0  ...       24    2          18\n",
              "Shirt                132        3        77  ...        0   11           0\n",
              "Sneaker                0        0         0  ...      966    2          19\n",
              "Bag                    6        0         3  ...        5  963           0\n",
              "Ankle boot             0        1         0  ...       50    0         942\n",
              "\n",
              "[10 rows x 10 columns]"
            ]
          },
          "metadata": {},
          "execution_count": 25
        }
      ]
    },
    {
      "cell_type": "code",
      "metadata": {
        "colab": {
          "base_uri": "https://localhost:8080/",
          "height": 458
        },
        "id": "MVNmqLVCwB6X",
        "outputId": "2ff44450-77da-40c7-9d9e-32d3d4c5d5cc"
      },
      "source": [
        "# Plotting the confusion matix\n",
        "plt.figure(figsize=(14,7))\n",
        "sns.heatmap(cm_df, annot=True, fmt='.1f', cmap=plt.cm.Blues)\n",
        "plt.title('Confusion Matrix')\n",
        "plt.xlabel('Predicted Value')\n",
        "plt.ylabel('Actual Value')\n",
        "plt.show()"
      ],
      "execution_count": null,
      "outputs": [
        {
          "output_type": "display_data",
          "data": {
            "image/png": "[encoded data removed]",
            "text/plain": [
              "<Figure size 1008x504 with 2 Axes>"
            ]
          },
          "metadata": {
            "needs_background": "light"
          }
        }
      ]
    },
    {
      "cell_type": "code",
      "metadata": {
        "id": "a2_uSCXfxDtw"
      },
      "source": [
        "def plot_random_image(model, images, true_labels, classes):\n",
        "  \"\"\"\n",
        "  picks a image plots it and labels it with a prediction and truth label.\n",
        "  \"\"\"\n",
        "  # set a rando integer\n",
        "  i = random.randint(0, len(images))\n",
        "\n",
        "  # create a prediction and targets\n",
        "  target_image = images[i]\n",
        "  pred_probs = model.predict(target_image.reshape(1, 28 , 28))\n",
        "  pred_label = classes[pred_probs.argmax()]\n",
        "  true_label = classes[true_labels[i]]\n",
        "\n",
        "  #plot the image\n",
        "  plt.imshow(target_image, cmap=plt.cm.binary)\n",
        "\n",
        "  # Change the color of title dpending upon if the prediction is wright or wrong\n",
        "  if pred_label == true_label:\n",
        "    color='green'\n",
        "  else:\n",
        "    color='red'\n",
        "\n",
        "  # add Xlabel information (prediction / true label)\n",
        "  plt.xlabel(f'Predicted: {pred_label} {100*tf.reduce_max(pred_probs)}, True: {true_label}', color=color)"
      ],
      "execution_count": null,
      "outputs": []
    },
    {
      "cell_type": "code",
      "metadata": {
        "colab": {
          "base_uri": "https://localhost:8080/",
          "height": 279
        },
        "id": "WV7JtSHmABXB",
        "outputId": "9a808411-a534-4c9a-9e9a-179848f307b6"
      },
      "source": [
        "plot_random_image(model=model_4, images=test_data_norm, \n",
        "                  true_labels=test_labels, classes=class_name )"
      ],
      "execution_count": null,
      "outputs": [
        {
          "output_type": "display_data",
          "data": {
            "image/png": "[encoded data removed]",
            "text/plain": [
              "<Figure size 432x288 with 1 Axes>"
            ]
          },
          "metadata": {
            "needs_background": "light"
          }
        }
      ]
    },
    {
      "cell_type": "markdown",
      "metadata": {
        "id": "NyUP_gXzCe_p"
      },
      "source": [
        "### What patterns our model is learning?\n"
      ]
    },
    {
      "cell_type": "code",
      "metadata": {
        "colab": {
          "base_uri": "https://localhost:8080/"
        },
        "id": "8cqmrh1nAjWv",
        "outputId": "87bae515-7eea-4762-b27e-a13131491be4"
      },
      "source": [
        "model_4.layers"
      ],
      "execution_count": null,
      "outputs": [
        {
          "output_type": "execute_result",
          "data": {
            "text/plain": [
              "[<keras.layers.core.Flatten at 0x7f1fcb717a90>,\n",
              " <keras.layers.core.Dense at 0x7f1fcb700850>,\n",
              " <keras.layers.core.Dense at 0x7f1fcb7005d0>]"
            ]
          },
          "metadata": {},
          "execution_count": 29
        }
      ]
    },
    {
      "cell_type": "code",
      "metadata": {
        "colab": {
          "base_uri": "https://localhost:8080/"
        },
        "id": "NCy8qgKKCpZn",
        "outputId": "d996b26c-87d9-4914-ecd2-8e2dcf394383"
      },
      "source": [
        "model_4.layers[1]"
      ],
      "execution_count": null,
      "outputs": [
        {
          "output_type": "execute_result",
          "data": {
            "text/plain": [
              "<keras.layers.core.Dense at 0x7f1fcb700850>"
            ]
          },
          "metadata": {},
          "execution_count": 30
        }
      ]
    },
    {
      "cell_type": "code",
      "metadata": {
        "colab": {
          "base_uri": "https://localhost:8080/"
        },
        "id": "m7DEF_kSCyaG",
        "outputId": "fc7df8ff-a9b5-48d4-9422-3b66abc084d6"
      },
      "source": [
        "# Get the pattern of a layer in our network\n",
        "weights, biases = model_4.layers[1].get_weights()\n",
        "\n",
        "# Shapes\n",
        "weights, weights.shape"
      ],
      "execution_count": null,
      "outputs": [
        {
          "output_type": "execute_result",
          "data": {
            "text/plain": [
              "(array([[-0.38819048, -0.22539634,  0.16348748, ..., -0.02273512,\n",
              "          0.53187287, -0.8814381 ],\n",
              "        [-0.5703444 , -0.169528  , -0.12244694, ...,  0.42785573,\n",
              "          0.08684283,  0.44058552],\n",
              "        [-0.2890431 ,  0.13273937, -0.71420634, ...,  0.09128264,\n",
              "          0.6850572 , -0.53798395],\n",
              "        ...,\n",
              "        [ 0.56151694,  0.25821233, -0.6046453 , ...,  0.12984739,\n",
              "          0.21285374,  0.23168184],\n",
              "        [ 0.3520329 ,  0.66315246, -0.15086626, ...,  0.08715662,\n",
              "          0.37614453, -0.46744633],\n",
              "        [ 0.31378397, -0.00244916, -0.2401423 , ...,  0.8654337 ,\n",
              "          0.93684906, -0.98700595]], dtype=float32), (784, 50))"
            ]
          },
          "metadata": {},
          "execution_count": 31
        }
      ]
    },
    {
      "cell_type": "code",
      "metadata": {
        "colab": {
          "base_uri": "https://localhost:8080/"
        },
        "id": "mw0UpkJaDRjf",
        "outputId": "2ae65a73-8f9c-46a8-953b-7692068a439d"
      },
      "source": [
        "# Bias and Bias Shape\n",
        "biases, biases.shape "
      ],
      "execution_count": null,
      "outputs": [
        {
          "output_type": "execute_result",
          "data": {
            "text/plain": [
              "(array([ 0.708044  , -0.09879537,  0.275567  ,  1.186721  , -0.13967867,\n",
              "         0.6404061 , -0.38934505,  0.6372057 , -0.18142408, -0.01360645,\n",
              "         0.1268434 , -0.0148722 , -0.17502555,  0.57466984,  0.6558156 ,\n",
              "         0.7934288 ,  0.75609213,  0.68531823,  0.51540095,  0.81746376,\n",
              "         0.47664663, -0.04228739,  0.26167107,  0.8387714 , -0.41269007,\n",
              "        -0.01190219,  0.9054522 ,  0.42760468,  0.8269951 , -0.16285643,\n",
              "         0.10600433, -0.02170377,  0.6418028 , -0.35830227, -0.02117324,\n",
              "        -0.39751968,  0.00199491,  0.28592435,  0.8829541 , -0.02526334,\n",
              "         0.6172501 ,  0.6337771 ,  0.31255737,  0.44274586,  0.9473821 ,\n",
              "        -0.24616197, -0.22703554, -0.30185524,  0.02430262,  0.42924884],\n",
              "       dtype=float32), (50,))"
            ]
          },
          "metadata": {},
          "execution_count": 32
        }
      ]
    },
    {
      "cell_type": "code",
      "metadata": {
        "colab": {
          "base_uri": "https://localhost:8080/",
          "height": 422
        },
        "id": "61dH5_yuEqSP",
        "outputId": "cd7771a4-543f-401c-fdc0-2b61f5d5b36a"
      },
      "source": [
        "from tensorflow.keras.utils import plot_model\n",
        "plot_model(model_4, show_shapes=True)"
      ],
      "execution_count": null,
      "outputs": [
        {
          "output_type": "execute_result",
          "data": {
            "image/png": "[encoded data removed]",
            "text/plain": [
              "<IPython.core.display.Image object>"
            ]
          },
          "metadata": {},
          "execution_count": 33
        }
      ]
    },
    {
      "cell_type": "code",
      "metadata": {
        "id": "D31Up4jbGA8X"
      },
      "source": [
        ""
      ],
      "execution_count": null,
      "outputs": []
    }
  ]
}